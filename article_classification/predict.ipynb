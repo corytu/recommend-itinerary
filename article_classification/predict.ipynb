{
 "cells": [
  {
   "cell_type": "code",
   "execution_count": 1,
   "metadata": {},
   "outputs": [],
   "source": [
    "import pickle\n",
    "\n",
    "import pandas as pd\n",
    "import numpy as np\n",
    "from gensim.models.word2vec import Word2Vec"
   ]
  },
  {
   "cell_type": "code",
   "execution_count": 2,
   "metadata": {},
   "outputs": [],
   "source": [
    "# Load data and models\n",
    "df = pd.read_json(\"preprocessed_data.json\")\n",
    "wv_model = Word2Vec.load(\"word2vec.model\")\n",
    "with open(\"xgboost.pickle\", \"rb\") as f:\n",
    "    xgbc = pickle.load(f)\n",
    "with open(\"rf.pickle\", \"rb\") as f:\n",
    "    rfc = pickle.load(f)"
   ]
  },
  {
   "cell_type": "code",
   "execution_count": 3,
   "metadata": {},
   "outputs": [],
   "source": [
    "# Filter out those which don't really have locations\n",
    "# Should be dealt in get_materials though\n",
    "df = df.loc[df[\"entity_address\"] != {'address': []}]"
   ]
  },
  {
   "cell_type": "code",
   "execution_count": 4,
   "metadata": {},
   "outputs": [
    {
     "name": "stderr",
     "output_type": "stream",
     "text": [
      "/Library/Frameworks/Python.framework/Versions/3.7/lib/python3.7/site-packages/ipykernel_launcher.py:9: DeprecationWarning: Call to deprecated `__getitem__` (Method will be removed in 4.0.0, use self.wv.__getitem__() instead).\n",
      "  if __name__ == '__main__':\n"
     ]
    }
   ],
   "source": [
    "word_vectors = []\n",
    "tf_idfs = []\n",
    "urls = []\n",
    "for row in df.itertuples(index=False):\n",
    "    for keyword in row.keyword_top10:\n",
    "        word = keyword[\"word\"]\n",
    "        tf_idf = keyword[\"tfidf\"]\n",
    "        try:\n",
    "            word_vectors.append(wv_model[word])\n",
    "        except KeyError:\n",
    "            continue\n",
    "        tf_idfs.append(tf_idf)\n",
    "        urls.append(row.url)"
   ]
  },
  {
   "cell_type": "code",
   "execution_count": 5,
   "metadata": {},
   "outputs": [],
   "source": [
    "df_word_vectors = pd.DataFrame(np.vstack(word_vectors))\n",
    "df_word_vectors.columns = [f\"wv_d{i}\" for i in range(1, 251)]\n",
    "df_tf_idf = pd.DataFrame(tf_idfs).rename(columns={0: \"tf_idf\"})\n",
    "df_url = pd.DataFrame(urls).rename(columns={0: \"url\"})"
   ]
  },
  {
   "cell_type": "code",
   "execution_count": 6,
   "metadata": {},
   "outputs": [],
   "source": [
    "data = pd.concat([df_url, df_word_vectors, df_tf_idf], axis=1)"
   ]
  },
  {
   "cell_type": "code",
   "execution_count": 7,
   "metadata": {},
   "outputs": [],
   "source": [
    "def predict_with_xgboost_and_rf(data):\n",
    "    labels = sorted([\"人文藝術\", \"其它\", \"娛樂購物\", \"自然景觀\"])\n",
    "    probs_xgbc = xgbc.predict_proba(data[[c for c in data.columns if c != \"url\"]])\n",
    "    probs_rfc = rfc.predict_proba(data[[c for c in data.columns if c != \"url\"]])\n",
    "    xgbc_list = [{label: p for label, p in zip(labels, prob)} for prob in probs_xgbc]\n",
    "    rfc_list = [{label: p for label, p in zip(labels, prob)} for prob in probs_rfc]\n",
    "    final_list = xgbc_list\n",
    "    final_list.extend(rfc_list)\n",
    "    return pd.DataFrame(final_list).mean().idxmax()"
   ]
  },
  {
   "cell_type": "code",
   "execution_count": 8,
   "metadata": {},
   "outputs": [],
   "source": [
    "predicted_categories = []\n",
    "for url in data[\"url\"].unique():\n",
    "    sub_data = data.loc[data[\"url\"] == url]\n",
    "    prediction = predict_with_xgboost_and_rf(sub_data)\n",
    "    predicted_categories.append({\"url\": url, \"predicted_category\": prediction})"
   ]
  },
  {
   "cell_type": "code",
   "execution_count": 9,
   "metadata": {},
   "outputs": [],
   "source": [
    "df_predicted = df.merge(pd.DataFrame(predicted_categories), on=\"url\", how=\"right\").rename(columns={\"locations\": \"segmented_locations\"})"
   ]
  },
  {
   "cell_type": "code",
   "execution_count": 10,
   "metadata": {},
   "outputs": [
    {
     "data": {
      "text/html": [
       "<div>\n",
       "<style scoped>\n",
       "    .dataframe tbody tr th:only-of-type {\n",
       "        vertical-align: middle;\n",
       "    }\n",
       "\n",
       "    .dataframe tbody tr th {\n",
       "        vertical-align: top;\n",
       "    }\n",
       "\n",
       "    .dataframe thead th {\n",
       "        text-align: right;\n",
       "    }\n",
       "</style>\n",
       "<table border=\"1\" class=\"dataframe\">\n",
       "  <thead>\n",
       "    <tr style=\"text-align: right;\">\n",
       "      <th></th>\n",
       "      <th>url</th>\n",
       "      <th>title</th>\n",
       "      <th>segmented_locations</th>\n",
       "      <th>entity_address</th>\n",
       "      <th>keyword_top10</th>\n",
       "      <th>sentences</th>\n",
       "      <th>self_defined_category</th>\n",
       "      <th>predicted_category</th>\n",
       "    </tr>\n",
       "  </thead>\n",
       "  <tbody>\n",
       "    <tr>\n",
       "      <th>0</th>\n",
       "      <td>http://eeooa0314.pixnet.net/blog/post/467928992</td>\n",
       "      <td>宜蘭親子玩水景點 ▶ 武荖坑風景區 ▶ 炎炎夏日消暑妙方  超清澈超沁涼溪水 全家出遊、親子...</td>\n",
       "      <td>[宜蘭, 武荖坑風景區]</td>\n",
       "      <td>[{'location': {'lon': '121.812772', 'lat': '24...</td>\n",
       "      <td>[{'tfidf': 0.49494000000000005, 'word': '武荖坑風景...</td>\n",
       "      <td>[戲水, 玩水, 烤肉, 宜蘭親子, 出遊, 門票, 露營]</td>\n",
       "      <td>自然景觀</td>\n",
       "      <td>自然景觀</td>\n",
       "    </tr>\n",
       "    <tr>\n",
       "      <th>1</th>\n",
       "      <td>http://eeooa0314.pixnet.net/blog/post/467899943</td>\n",
       "      <td>2019台北最新親子公園 ▶ 華山大草原遊戲場 ▶ 極限滑索、煙囪遊戲塔、飛天鞦韆、水沙世界...</td>\n",
       "      <td>[台北, 華山, 世界]</td>\n",
       "      <td>[{'location': {'lon': 121.526707, 'lat': 25.04...</td>\n",
       "      <td>[{'tfidf': 0.37110000000000004, 'word': '華山'},...</td>\n",
       "      <td>[公園, 大草原, 遊戲場, 煙囪, 遊戲, 暑假, 滑索, 鞦韆, 水沙]</td>\n",
       "      <td>人文藝術</td>\n",
       "      <td>人文藝術</td>\n",
       "    </tr>\n",
       "    <tr>\n",
       "      <th>2</th>\n",
       "      <td>http://vreranda.pixnet.net/blog/post/227769134</td>\n",
       "      <td>宜蘭景點/親子同遊/煮蛋『鳩之澤』宜蘭旅遊/泡湯/太平山森林遊樂區</td>\n",
       "      <td>[宜蘭, 太平山森林遊樂區]</td>\n",
       "      <td>[{'location': {'lon': 121.5081831, 'lat': 24.5...</td>\n",
       "      <td>[{'tfidf': 0.45949000000000007, 'word': '煮蛋'},...</td>\n",
       "      <td>[煮蛋, 沙拉, 鳩之澤, 溫泉, 泡湯, 太平山, 牛牛, 宜蘭旅遊]</td>\n",
       "      <td>自然景觀</td>\n",
       "      <td>自然景觀</td>\n",
       "    </tr>\n",
       "    <tr>\n",
       "      <th>3</th>\n",
       "      <td>http://tadli.pixnet.net/blog/post/227821865</td>\n",
       "      <td>2019/06/22&lt;親子露營第30露&gt;宜蘭-武林秘密基地露營區：報告班長，小小兵集合囉~</td>\n",
       "      <td>[宜蘭, 露營區, 報告班長]</td>\n",
       "      <td>[{'location': {'lon': 121.6838752, 'lat': 24.6...</td>\n",
       "      <td>[{'tfidf': 0.18113, 'word': '活動'}, {'tfidf': 0...</td>\n",
       "      <td>[活動, 營區, 小孩, 民宿, 開心, 泡泡, 雨棚, 任務, 秘密基地]</td>\n",
       "      <td>自然景觀</td>\n",
       "      <td>自然景觀</td>\n",
       "    </tr>\n",
       "    <tr>\n",
       "      <th>4</th>\n",
       "      <td>http://abby0318.pixnet.net/blog/post/467921939</td>\n",
       "      <td>【桃園景點美食】桃園龍潭一日遊~13個景點美食景觀餐廳懒人包！</td>\n",
       "      <td>[桃園, 龍潭]</td>\n",
       "      <td>[{'location': {'lon': '121.2432972', 'lat': '2...</td>\n",
       "      <td>[{'word': 'abby', 'tfidf': 0.41703}, {'tfidf':...</td>\n",
       "      <td>[abby, 閱讀, 環境, 點選, 連結, 詳細, 電話, 營業時間]</td>\n",
       "      <td>其它</td>\n",
       "      <td>其它</td>\n",
       "    </tr>\n",
       "  </tbody>\n",
       "</table>\n",
       "</div>"
      ],
      "text/plain": [
       "                                               url  \\\n",
       "0  http://eeooa0314.pixnet.net/blog/post/467928992   \n",
       "1  http://eeooa0314.pixnet.net/blog/post/467899943   \n",
       "2   http://vreranda.pixnet.net/blog/post/227769134   \n",
       "3      http://tadli.pixnet.net/blog/post/227821865   \n",
       "4   http://abby0318.pixnet.net/blog/post/467921939   \n",
       "\n",
       "                                               title segmented_locations  \\\n",
       "0  宜蘭親子玩水景點 ▶ 武荖坑風景區 ▶ 炎炎夏日消暑妙方  超清澈超沁涼溪水 全家出遊、親子...        [宜蘭, 武荖坑風景區]   \n",
       "1  2019台北最新親子公園 ▶ 華山大草原遊戲場 ▶ 極限滑索、煙囪遊戲塔、飛天鞦韆、水沙世界...        [台北, 華山, 世界]   \n",
       "2                  宜蘭景點/親子同遊/煮蛋『鳩之澤』宜蘭旅遊/泡湯/太平山森林遊樂區      [宜蘭, 太平山森林遊樂區]   \n",
       "3      2019/06/22<親子露營第30露>宜蘭-武林秘密基地露營區：報告班長，小小兵集合囉~     [宜蘭, 露營區, 報告班長]   \n",
       "4                    【桃園景點美食】桃園龍潭一日遊~13個景點美食景觀餐廳懒人包！            [桃園, 龍潭]   \n",
       "\n",
       "                                      entity_address  \\\n",
       "0  [{'location': {'lon': '121.812772', 'lat': '24...   \n",
       "1  [{'location': {'lon': 121.526707, 'lat': 25.04...   \n",
       "2  [{'location': {'lon': 121.5081831, 'lat': 24.5...   \n",
       "3  [{'location': {'lon': 121.6838752, 'lat': 24.6...   \n",
       "4  [{'location': {'lon': '121.2432972', 'lat': '2...   \n",
       "\n",
       "                                       keyword_top10  \\\n",
       "0  [{'tfidf': 0.49494000000000005, 'word': '武荖坑風景...   \n",
       "1  [{'tfidf': 0.37110000000000004, 'word': '華山'},...   \n",
       "2  [{'tfidf': 0.45949000000000007, 'word': '煮蛋'},...   \n",
       "3  [{'tfidf': 0.18113, 'word': '活動'}, {'tfidf': 0...   \n",
       "4  [{'word': 'abby', 'tfidf': 0.41703}, {'tfidf':...   \n",
       "\n",
       "                                sentences self_defined_category  \\\n",
       "0          [戲水, 玩水, 烤肉, 宜蘭親子, 出遊, 門票, 露營]                  自然景觀   \n",
       "1  [公園, 大草原, 遊戲場, 煙囪, 遊戲, 暑假, 滑索, 鞦韆, 水沙]                  人文藝術   \n",
       "2    [煮蛋, 沙拉, 鳩之澤, 溫泉, 泡湯, 太平山, 牛牛, 宜蘭旅遊]                  自然景觀   \n",
       "3  [活動, 營區, 小孩, 民宿, 開心, 泡泡, 雨棚, 任務, 秘密基地]                  自然景觀   \n",
       "4    [abby, 閱讀, 環境, 點選, 連結, 詳細, 電話, 營業時間]                    其它   \n",
       "\n",
       "  predicted_category  \n",
       "0               自然景觀  \n",
       "1               人文藝術  \n",
       "2               自然景觀  \n",
       "3               自然景觀  \n",
       "4                 其它  "
      ]
     },
     "execution_count": 10,
     "metadata": {},
     "output_type": "execute_result"
    }
   ],
   "source": [
    "df_predicted.head()"
   ]
  }
 ],
 "metadata": {
  "kernelspec": {
   "display_name": "Python 3",
   "language": "python",
   "name": "python3"
  },
  "language_info": {
   "codemirror_mode": {
    "name": "ipython",
    "version": 3
   },
   "file_extension": ".py",
   "mimetype": "text/x-python",
   "name": "python",
   "nbconvert_exporter": "python",
   "pygments_lexer": "ipython3",
   "version": "3.7.1"
  }
 },
 "nbformat": 4,
 "nbformat_minor": 4
}
