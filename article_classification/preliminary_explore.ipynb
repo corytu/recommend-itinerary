{
 "cells": [
  {
   "cell_type": "code",
   "execution_count": 1,
   "metadata": {},
   "outputs": [],
   "source": [
    "import json\n",
    "import re\n",
    "\n",
    "import pandas as pd\n",
    "from gensim.models.word2vec import Word2Vec"
   ]
  },
  {
   "cell_type": "code",
   "execution_count": 2,
   "metadata": {},
   "outputs": [],
   "source": [
    "df = pd.read_csv(\"classification_articles.csv\")"
   ]
  },
  {
   "cell_type": "markdown",
   "metadata": {},
   "source": [
    "# Data preprocessing"
   ]
  },
  {
   "cell_type": "code",
   "execution_count": 3,
   "metadata": {},
   "outputs": [],
   "source": [
    "df_classified = df.loc[~df[\"self_defined_category\"].isna()]"
   ]
  },
  {
   "cell_type": "code",
   "execution_count": 4,
   "metadata": {},
   "outputs": [
    {
     "data": {
      "text/plain": [
       "(200, 7)"
      ]
     },
     "execution_count": 4,
     "metadata": {},
     "output_type": "execute_result"
    }
   ],
   "source": [
    "df_classified.shape"
   ]
  },
  {
   "cell_type": "code",
   "execution_count": 5,
   "metadata": {},
   "outputs": [
    {
     "name": "stderr",
     "output_type": "stream",
     "text": [
      "/Library/Frameworks/Python.framework/Versions/3.7/lib/python3.7/site-packages/ipykernel_launcher.py:2: SettingWithCopyWarning: \n",
      "A value is trying to be set on a copy of a slice from a DataFrame.\n",
      "Try using .loc[row_indexer,col_indexer] = value instead\n",
      "\n",
      "See the caveats in the documentation: http://pandas.pydata.org/pandas-docs/stable/user_guide/indexing.html#returning-a-view-versus-a-copy\n",
      "  \n",
      "/Library/Frameworks/Python.framework/Versions/3.7/lib/python3.7/site-packages/ipykernel_launcher.py:3: SettingWithCopyWarning: \n",
      "A value is trying to be set on a copy of a slice from a DataFrame.\n",
      "Try using .loc[row_indexer,col_indexer] = value instead\n",
      "\n",
      "See the caveats in the documentation: http://pandas.pydata.org/pandas-docs/stable/user_guide/indexing.html#returning-a-view-versus-a-copy\n",
      "  This is separate from the ipykernel package so we can avoid doing imports until\n",
      "/Library/Frameworks/Python.framework/Versions/3.7/lib/python3.7/site-packages/ipykernel_launcher.py:4: SettingWithCopyWarning: \n",
      "A value is trying to be set on a copy of a slice from a DataFrame.\n",
      "Try using .loc[row_indexer,col_indexer] = value instead\n",
      "\n",
      "See the caveats in the documentation: http://pandas.pydata.org/pandas-docs/stable/user_guide/indexing.html#returning-a-view-versus-a-copy\n",
      "  after removing the cwd from sys.path.\n",
      "/Library/Frameworks/Python.framework/Versions/3.7/lib/python3.7/site-packages/ipykernel_launcher.py:5: SettingWithCopyWarning: \n",
      "A value is trying to be set on a copy of a slice from a DataFrame.\n",
      "Try using .loc[row_indexer,col_indexer] = value instead\n",
      "\n",
      "See the caveats in the documentation: http://pandas.pydata.org/pandas-docs/stable/user_guide/indexing.html#returning-a-view-versus-a-copy\n",
      "  \"\"\"\n"
     ]
    }
   ],
   "source": [
    "# https://stackoverflow.com/questions/17796446/convert-a-list-to-a-string-and-back\n",
    "df_classified[\"sentences\"] = df_classified[\"sentences\"].apply(lambda s: eval(s))\n",
    "df_classified[\"keyword_top10\"] = df_classified[\"keyword_top10\"].apply(lambda s: eval(s))\n",
    "df_classified[\"locations\"] = df_classified[\"locations\"].apply(lambda s: eval(s))\n",
    "df_classified[\"entity_address\"] = df_classified[\"entity_address\"].apply(lambda s: eval(s))"
   ]
  },
  {
   "cell_type": "markdown",
   "metadata": {},
   "source": [
    "# Explore categories and keywords"
   ]
  },
  {
   "cell_type": "code",
   "execution_count": 6,
   "metadata": {},
   "outputs": [
    {
     "data": {
      "text/plain": [
       "其它      79\n",
       "自然景觀    51\n",
       "人文藝術    38\n",
       "娛樂購物    32\n",
       "Name: self_defined_category, dtype: int64"
      ]
     },
     "execution_count": 6,
     "metadata": {},
     "output_type": "execute_result"
    }
   ],
   "source": [
    "df_classified[\"self_defined_category\"].value_counts()"
   ]
  },
  {
   "cell_type": "code",
   "execution_count": 7,
   "metadata": {},
   "outputs": [],
   "source": [
    "other_sentences = []\n",
    "for l in df_classified.loc[df_classified[\"self_defined_category\"] == \"其它\", \"sentences\"]:\n",
    "    other_sentences.extend(l)"
   ]
  },
  {
   "cell_type": "code",
   "execution_count": 8,
   "metadata": {},
   "outputs": [
    {
     "data": {
      "text/plain": [
       "飯店    14\n",
       "房間    12\n",
       "空間    11\n",
       "推薦    10\n",
       "景點    10\n",
       "住宿     9\n",
       "美食     8\n",
       "台中     8\n",
       "早餐     7\n",
       "設施     7\n",
       "dtype: int64"
      ]
     },
     "execution_count": 8,
     "metadata": {},
     "output_type": "execute_result"
    }
   ],
   "source": [
    "series_other = pd.Series(other_sentences)\n",
    "series_other.value_counts().head(10)"
   ]
  },
  {
   "cell_type": "code",
   "execution_count": 9,
   "metadata": {},
   "outputs": [
    {
     "data": {
      "text/plain": [
       "飯店      14\n",
       "房間      12\n",
       "空間      11\n",
       "推薦      10\n",
       "景點      10\n",
       "        ..\n",
       "分鐘       2\n",
       "quby     2\n",
       "會館       2\n",
       "汽車旅館     2\n",
       "北投       2\n",
       "Length: 99, dtype: int64"
      ]
     },
     "execution_count": 9,
     "metadata": {},
     "output_type": "execute_result"
    }
   ],
   "source": [
    "series_other.value_counts()[series_other.value_counts() > 1]"
   ]
  },
  {
   "cell_type": "code",
   "execution_count": 10,
   "metadata": {},
   "outputs": [],
   "source": [
    "nature_sentences = []\n",
    "for l in df_classified.loc[df_classified[\"self_defined_category\"] == \"自然景觀\", \"sentences\"]:\n",
    "    nature_sentences.extend(l)"
   ]
  },
  {
   "cell_type": "code",
   "execution_count": 11,
   "metadata": {},
   "outputs": [
    {
     "data": {
      "text/plain": [
       "景點        16\n",
       "櫻花        10\n",
       "2019       9\n",
       "js         9\n",
       "露營         8\n",
       "步道         8\n",
       "window     7\n",
       "push       7\n",
       "花況         6\n",
       "門票         5\n",
       "dtype: int64"
      ]
     },
     "execution_count": 11,
     "metadata": {},
     "output_type": "execute_result"
    }
   ],
   "source": [
    "series_nature = pd.Series(nature_sentences)\n",
    "series_nature.value_counts().head(10)"
   ]
  },
  {
   "cell_type": "code",
   "execution_count": 12,
   "metadata": {},
   "outputs": [
    {
     "data": {
      "text/plain": [
       "景點       16\n",
       "櫻花       10\n",
       "2019      9\n",
       "js        9\n",
       "露營        8\n",
       "         ..\n",
       "2018      2\n",
       "免費        2\n",
       "泰安派出所     2\n",
       "遊客        2\n",
       "時間        2\n",
       "Length: 64, dtype: int64"
      ]
     },
     "execution_count": 12,
     "metadata": {},
     "output_type": "execute_result"
    }
   ],
   "source": [
    "series_nature.value_counts()[series_nature.value_counts() > 1]"
   ]
  },
  {
   "cell_type": "code",
   "execution_count": 13,
   "metadata": {},
   "outputs": [],
   "source": [
    "art_sentences = []\n",
    "for l in df_classified.loc[df_classified[\"self_defined_category\"] == \"人文藝術\", \"sentences\"]:\n",
    "    art_sentences.extend(l)"
   ]
  },
  {
   "cell_type": "code",
   "execution_count": 14,
   "metadata": {},
   "outputs": [
    {
     "data": {
      "text/plain": [
       "景點     11\n",
       "園區      5\n",
       "宜蘭      5\n",
       "台灣      5\n",
       "空間      4\n",
       "小朋友     4\n",
       "打卡      4\n",
       "體驗      4\n",
       "建築      4\n",
       "ig      4\n",
       "dtype: int64"
      ]
     },
     "execution_count": 14,
     "metadata": {},
     "output_type": "execute_result"
    }
   ],
   "source": [
    "series_art = pd.Series(art_sentences)\n",
    "series_art.value_counts().head(10)"
   ]
  },
  {
   "cell_type": "code",
   "execution_count": 15,
   "metadata": {},
   "outputs": [
    {
     "data": {
      "text/plain": [
       "景點        11\n",
       "園區         5\n",
       "宜蘭         5\n",
       "台灣         5\n",
       "空間         4\n",
       "小朋友        4\n",
       "打卡         4\n",
       "體驗         4\n",
       "建築         4\n",
       "ig         4\n",
       "博物館        3\n",
       "台中         3\n",
       "免費         3\n",
       "武淵         3\n",
       "水火同源       3\n",
       "藝術         3\n",
       "公園         3\n",
       "閱讀         3\n",
       "推薦         3\n",
       "參觀         2\n",
       "草皮         2\n",
       "餐廳         2\n",
       "音樂         2\n",
       "鍾肇政        2\n",
       "青鳥         2\n",
       "華山         2\n",
       "陀螺         2\n",
       "diy        2\n",
       "溜滑梯        2\n",
       "台南         2\n",
       "龍潭         2\n",
       "門票         2\n",
       "咖啡         2\n",
       "火車         2\n",
       "泡腳         2\n",
       "展覽         2\n",
       "宿舍         2\n",
       "戲水         2\n",
       "大碗公溜滑梯     2\n",
       "書店         2\n",
       "現代         2\n",
       "日式建築       2\n",
       "日式         2\n",
       "桃園         2\n",
       "沙雕         2\n",
       "活動         2\n",
       "創作         2\n",
       "苗栗市        2\n",
       "時間         2\n",
       "協櫻         2\n",
       "地景         2\n",
       "機芯         2\n",
       "幾米         2\n",
       "指尖         2\n",
       "客家         2\n",
       "dtype: int64"
      ]
     },
     "execution_count": 15,
     "metadata": {},
     "output_type": "execute_result"
    }
   ],
   "source": [
    "series_art.value_counts()[series_art.value_counts() > 1]"
   ]
  },
  {
   "cell_type": "code",
   "execution_count": 16,
   "metadata": {},
   "outputs": [],
   "source": [
    "shop_sentences = []\n",
    "for l in df_classified.loc[df_classified[\"self_defined_category\"] == \"娛樂購物\", \"sentences\"]:\n",
    "    shop_sentences.extend(l)"
   ]
  },
  {
   "cell_type": "code",
   "execution_count": 17,
   "metadata": {},
   "outputs": [
    {
     "data": {
      "text/plain": [
       "小朋友    6\n",
       "溜滑梯    5\n",
       "公園     4\n",
       "js     4\n",
       "桃園     3\n",
       "宜蘭     3\n",
       "台中     3\n",
       "中壢     3\n",
       "特賣會    3\n",
       "打卡     3\n",
       "dtype: int64"
      ]
     },
     "execution_count": 17,
     "metadata": {},
     "output_type": "execute_result"
    }
   ],
   "source": [
    "series_shop = pd.Series(shop_sentences)\n",
    "series_shop.value_counts().head(10)"
   ]
  },
  {
   "cell_type": "code",
   "execution_count": 18,
   "metadata": {},
   "outputs": [
    {
     "data": {
      "text/plain": [
       "小朋友       6\n",
       "溜滑梯       5\n",
       "公園        4\n",
       "js        4\n",
       "桃園        3\n",
       "宜蘭        3\n",
       "台中        3\n",
       "中壢        3\n",
       "特賣會       3\n",
       "打卡        3\n",
       "diy       3\n",
       "小米        3\n",
       "台南        3\n",
       "美食        2\n",
       "親子        2\n",
       "參考        2\n",
       "push      2\n",
       "台灣        2\n",
       "開幕        2\n",
       "喜歡        2\n",
       "吉米        2\n",
       "遊戲場       2\n",
       "大江購物中心    2\n",
       "設施        2\n",
       "id        2\n",
       "球池        2\n",
       "花蓮        2\n",
       "可愛        2\n",
       "window    2\n",
       "門票        2\n",
       "體驗        2\n",
       "台中后里      2\n",
       "觀光工廠      2\n",
       "空間        2\n",
       "dtype: int64"
      ]
     },
     "execution_count": 18,
     "metadata": {},
     "output_type": "execute_result"
    }
   ],
   "source": [
    "series_shop.value_counts()[series_shop.value_counts() > 1]"
   ]
  },
  {
   "cell_type": "code",
   "execution_count": 19,
   "metadata": {},
   "outputs": [
    {
     "data": {
      "text/plain": [
       "景點        3\n",
       "小朋友       2\n",
       "宜蘭        2\n",
       "空間        2\n",
       "js        2\n",
       "台中        2\n",
       "打卡        2\n",
       "設施        1\n",
       "門票        1\n",
       "體驗        1\n",
       "公園        1\n",
       "美食        1\n",
       "溜滑梯       1\n",
       "台灣        1\n",
       "推薦        1\n",
       "房間        1\n",
       "中壢        1\n",
       "特賣會       1\n",
       "push      1\n",
       "住宿        1\n",
       "花況        1\n",
       "window    1\n",
       "園區        1\n",
       "早餐        1\n",
       "ig        1\n",
       "步道        1\n",
       "櫻花        1\n",
       "桃園        1\n",
       "2019      1\n",
       "建築        1\n",
       "飯店        1\n",
       "露營        1\n",
       "dtype: int64"
      ]
     },
     "execution_count": 19,
     "metadata": {},
     "output_type": "execute_result"
    }
   ],
   "source": [
    "# Find intersections of top-10-common keywords accross categories\n",
    "# (to be excluded in following predictions)\n",
    "series_common = (\n",
    "    series_other.value_counts().head(10).index\n",
    "        .append(series_art.value_counts().head(10).index)\n",
    "        .append(series_nature.value_counts().head(10).index)\n",
    "        .append(series_shop.value_counts().head(10).index)\n",
    ")\n",
    "series_common.value_counts()"
   ]
  },
  {
   "cell_type": "code",
   "execution_count": 20,
   "metadata": {},
   "outputs": [
    {
     "data": {
      "text/plain": [
       "['景點', '小朋友', '宜蘭', '空間', 'js', '台中', '打卡']"
      ]
     },
     "execution_count": 20,
     "metadata": {},
     "output_type": "execute_result"
    }
   ],
   "source": [
    "list_excluding_keywords = series_common.value_counts()[series_common.value_counts() > 1].index.tolist()\n",
    "list_excluding_keywords"
   ]
  },
  {
   "cell_type": "code",
   "execution_count": 21,
   "metadata": {},
   "outputs": [
    {
     "data": {
      "text/plain": [
       "['陽明山天籟渡假酒店',\n",
       " '台灣穀堡',\n",
       " '集集火車站',\n",
       " '拉拉山恩愛農場',\n",
       " '白河',\n",
       " '湖口',\n",
       " '龍潭',\n",
       " '八卦山',\n",
       " '彰化',\n",
       " '新竹火車站',\n",
       " '東勢',\n",
       " '鰲峰山運動公園',\n",
       " '赤崁璽樓民宿',\n",
       " '大安區',\n",
       " '臺中市眷村文物館',\n",
       " '大甲溪',\n",
       " '花蓮',\n",
       " '瑞春醬油',\n",
       " '澎湖跨海大橋',\n",
       " '松山區',\n",
       " '鯉魚潭',\n",
       " '高雄',\n",
       " '箱根',\n",
       " '馬來西亞',\n",
       " '台北車站',\n",
       " '清水',\n",
       " '台灣',\n",
       " '小琉球',\n",
       " '美術館',\n",
       " '情人橋',\n",
       " '武荖坑風景區',\n",
       " '大湖',\n",
       " '梅花',\n",
       " '彩虹',\n",
       " '菱潭街興創基地',\n",
       " '大溪老街',\n",
       " '鹿場',\n",
       " '紅樹林站',\n",
       " '二崁聚落',\n",
       " '銅鑼',\n",
       " '信義區',\n",
       " '苗栗',\n",
       " '車路墘教會',\n",
       " '北屯',\n",
       " '小北家',\n",
       " '圓林仔社區',\n",
       " '捷運忠孝復興站',\n",
       " '草屯',\n",
       " '谷關',\n",
       " '新北',\n",
       " '綠園道',\n",
       " '竹北',\n",
       " '運動公園',\n",
       " '北投',\n",
       " '青埔',\n",
       " '西屯',\n",
       " '東大門夜市',\n",
       " '東海岸',\n",
       " '樹谷農場',\n",
       " '澎湖',\n",
       " '環保公園',\n",
       " '中山',\n",
       " '三重',\n",
       " '西區',\n",
       " '屏東',\n",
       " '蜜餞形象館',\n",
       " '巴黎',\n",
       " '中壢',\n",
       " '泰安',\n",
       " '綠川',\n",
       " '復興區',\n",
       " '新北市',\n",
       " '華山',\n",
       " '台中',\n",
       " '后里',\n",
       " '紅樓',\n",
       " '月眉糖廠',\n",
       " '玉井',\n",
       " '亞太飯店',\n",
       " '宜蘭',\n",
       " '南印度',\n",
       " '文化村',\n",
       " '東豐自行車綠廊',\n",
       " '日本',\n",
       " '南投',\n",
       " '客家文物館',\n",
       " '南庄',\n",
       " '美國',\n",
       " '大甲',\n",
       " '眺望',\n",
       " '世界',\n",
       " '台東',\n",
       " '秘密花園',\n",
       " '松山',\n",
       " '新社',\n",
       " '自由天地民宿',\n",
       " '曼谷',\n",
       " '新化',\n",
       " '南門',\n",
       " '觀光夜市',\n",
       " '三峽',\n",
       " '青草湖',\n",
       " '南寮',\n",
       " '雲林',\n",
       " '嘉義',\n",
       " '童話世界',\n",
       " '鳥人創意旅店',\n",
       " '桃園',\n",
       " '易家仙人掌冰',\n",
       " '台江國家公園遊客中心',\n",
       " '勤美術館',\n",
       " '大安',\n",
       " '準園休閒農場',\n",
       " '西螺',\n",
       " '新竹',\n",
       " '室內',\n",
       " '礁溪',\n",
       " '淡水',\n",
       " '陽明山',\n",
       " '月亮',\n",
       " '水舞行館',\n",
       " '糖廠',\n",
       " '蘆竹',\n",
       " '太原',\n",
       " '冬山',\n",
       " '武德殿',\n",
       " '烏來',\n",
       " '冬山鄉',\n",
       " '卓蘭',\n",
       " '七股',\n",
       " '台南',\n",
       " '遠雄海洋公園',\n",
       " '華山文創園區',\n",
       " '楠西',\n",
       " '桃園國際棒球場',\n",
       " '台灣滷味博物館',\n",
       " '休閒農業區',\n",
       " '花蓮理想<ModifierP>大地</ModifierP>渡假飯店',\n",
       " '台北',\n",
       " '太平山森林遊樂區',\n",
       " '東旅',\n",
       " '板橋',\n",
       " '大陸',\n",
       " '在水一方',\n",
       " '宜蘭伯朗大道',\n",
       " '天元宮',\n",
       " '泰國',\n",
       " '吉園休閒農場',\n",
       " '來了',\n",
       " '探索私旅',\n",
       " '總爺藝文中心',\n",
       " '展覽館',\n",
       " '保安車站',\n",
       " '六龜區',\n",
       " '帳篷內',\n",
       " '武陵農場',\n",
       " '逢甲夜市',\n",
       " '歐洲',\n",
       " '黃金瀑布',\n",
       " '恆春',\n",
       " '墾丁',\n",
       " '文物館',\n",
       " '禾風新棧度假飯店',\n",
       " '外埔',\n",
       " '達邦',\n",
       " '印度',\n",
       " '大雅',\n",
       " '花蓮港',\n",
       " '海南',\n",
       " '太平洋',\n",
       " '台中市',\n",
       " '苗栗市',\n",
       " '南屯',\n",
       " '南方莊園渡假飯店',\n",
       " '望龍埤',\n",
       " '森林步道',\n",
       " '大溪',\n",
       " '芭蕾城市渡假旅店',\n",
       " '報告班長',\n",
       " '國內',\n",
       " '孔廟',\n",
       " '青森',\n",
       " '后里區',\n",
       " '東港',\n",
       " '員林',\n",
       " '亞洲',\n",
       " '頭城',\n",
       " '羅東',\n",
       " '功維敘隧道',\n",
       " '峇里島',\n",
       " '麻豆',\n",
       " '壽豐',\n",
       " '士林',\n",
       " '綠舞國際觀光飯店',\n",
       " '勤美綠園道',\n",
       " '南京三民站',\n",
       " '露營區',\n",
       " '基隆',\n",
       " '村却國際溫泉酒店',\n",
       " '新竹縣']"
      ]
     },
     "execution_count": 21,
     "metadata": {},
     "output_type": "execute_result"
    }
   ],
   "source": [
    "# Keywords can't be locations either\n",
    "list_excluding_locations = [s for l in df_classified[\"locations\"] for s in l]\n",
    "list_excluding_locations = list(set(list_excluding_locations))\n",
    "list_excluding_locations"
   ]
  },
  {
   "cell_type": "code",
   "execution_count": 22,
   "metadata": {},
   "outputs": [
    {
     "name": "stderr",
     "output_type": "stream",
     "text": [
      "/Library/Frameworks/Python.framework/Versions/3.7/lib/python3.7/site-packages/ipykernel_launcher.py:2: SettingWithCopyWarning: \n",
      "A value is trying to be set on a copy of a slice from a DataFrame.\n",
      "Try using .loc[row_indexer,col_indexer] = value instead\n",
      "\n",
      "See the caveats in the documentation: http://pandas.pydata.org/pandas-docs/stable/user_guide/indexing.html#returning-a-view-versus-a-copy\n",
      "  \n"
     ]
    }
   ],
   "source": [
    "df_classified[\"sentences\"] = df_classified[\"sentences\"].apply(\n",
    "    lambda l: [\n",
    "        s for s in l\n",
    "        # Excluding common keywords\n",
    "        if s not in list_excluding_keywords and\n",
    "        # Excluding locations\n",
    "        s not in list_excluding_locations and\n",
    "        # Excluding pure digits\n",
    "        not re.match(r\"\\d+$\", s)\n",
    "    ]\n",
    ")"
   ]
  },
  {
   "cell_type": "markdown",
   "metadata": {},
   "source": [
    "# Word2Vec"
   ]
  },
  {
   "cell_type": "code",
   "execution_count": 23,
   "metadata": {},
   "outputs": [],
   "source": [
    "def most_similar(w2v_model, words, topn=10):\n",
    "    similar_df = pd.DataFrame()\n",
    "    for word in words:\n",
    "        try:\n",
    "            similar_words = pd.DataFrame(w2v_model.wv.most_similar(word, topn=topn), columns=[word, 'cos'])\n",
    "            similar_df = pd.concat([similar_df, similar_words], axis=1)\n",
    "        except KeyError:\n",
    "            print(word, \"not found in Word2Vec model!\")\n",
    "    return similar_df"
   ]
  },
  {
   "cell_type": "code",
   "execution_count": 24,
   "metadata": {},
   "outputs": [],
   "source": [
    "model = Word2Vec(df_classified[\"sentences\"], size=250, iter=10, min_count=2, sg=1, window=1)"
   ]
  },
  {
   "cell_type": "code",
   "execution_count": 25,
   "metadata": {},
   "outputs": [
    {
     "data": {
      "text/html": [
       "<div>\n",
       "<style scoped>\n",
       "    .dataframe tbody tr th:only-of-type {\n",
       "        vertical-align: middle;\n",
       "    }\n",
       "\n",
       "    .dataframe tbody tr th {\n",
       "        vertical-align: top;\n",
       "    }\n",
       "\n",
       "    .dataframe thead th {\n",
       "        text-align: right;\n",
       "    }\n",
       "</style>\n",
       "<table border=\"1\" class=\"dataframe\">\n",
       "  <thead>\n",
       "    <tr style=\"text-align: right;\">\n",
       "      <th></th>\n",
       "      <th>櫻花</th>\n",
       "      <th>cos</th>\n",
       "      <th>溜滑梯</th>\n",
       "      <th>cos</th>\n",
       "      <th>門票</th>\n",
       "      <th>cos</th>\n",
       "      <th>飯店</th>\n",
       "      <th>cos</th>\n",
       "      <th>民宿</th>\n",
       "      <th>cos</th>\n",
       "      <th>步道</th>\n",
       "      <th>cos</th>\n",
       "      <th>芒果</th>\n",
       "      <th>cos</th>\n",
       "    </tr>\n",
       "  </thead>\n",
       "  <tbody>\n",
       "    <tr>\n",
       "      <th>0</th>\n",
       "      <td>老闆</td>\n",
       "      <td>0.171519</td>\n",
       "      <td>孩子們</td>\n",
       "      <td>0.190876</td>\n",
       "      <td>創作</td>\n",
       "      <td>0.177436</td>\n",
       "      <td>可愛</td>\n",
       "      <td>0.245765</td>\n",
       "      <td>開幕</td>\n",
       "      <td>0.169111</td>\n",
       "      <td>度空間</td>\n",
       "      <td>0.171941</td>\n",
       "      <td>夜市</td>\n",
       "      <td>0.160729</td>\n",
       "    </tr>\n",
       "    <tr>\n",
       "      <th>1</th>\n",
       "      <td>溜滑梯</td>\n",
       "      <td>0.166381</td>\n",
       "      <td>建築</td>\n",
       "      <td>0.178039</td>\n",
       "      <td>生態</td>\n",
       "      <td>0.161908</td>\n",
       "      <td>戶外</td>\n",
       "      <td>0.171931</td>\n",
       "      <td>溫泉</td>\n",
       "      <td>0.168815</td>\n",
       "      <td>老闆</td>\n",
       "      <td>0.157370</td>\n",
       "      <td>火鍋</td>\n",
       "      <td>0.131234</td>\n",
       "    </tr>\n",
       "    <tr>\n",
       "      <th>2</th>\n",
       "      <td>創作</td>\n",
       "      <td>0.148122</td>\n",
       "      <td>櫻花</td>\n",
       "      <td>0.166381</td>\n",
       "      <td>咖啡</td>\n",
       "      <td>0.147168</td>\n",
       "      <td>戲水</td>\n",
       "      <td>0.155212</td>\n",
       "      <td>營業時間</td>\n",
       "      <td>0.155166</td>\n",
       "      <td>規劃</td>\n",
       "      <td>0.157066</td>\n",
       "      <td>追蹤</td>\n",
       "      <td>0.120545</td>\n",
       "    </tr>\n",
       "    <tr>\n",
       "      <th>3</th>\n",
       "      <td>大碗公溜滑梯</td>\n",
       "      <td>0.146144</td>\n",
       "      <td>繡球花</td>\n",
       "      <td>0.155903</td>\n",
       "      <td>小孩</td>\n",
       "      <td>0.120985</td>\n",
       "      <td>花園</td>\n",
       "      <td>0.141483</td>\n",
       "      <td>體驗</td>\n",
       "      <td>0.141767</td>\n",
       "      <td>波斯菊</td>\n",
       "      <td>0.147965</td>\n",
       "      <td>花況</td>\n",
       "      <td>0.118640</td>\n",
       "    </tr>\n",
       "    <tr>\n",
       "      <th>4</th>\n",
       "      <td>天空步道</td>\n",
       "      <td>0.145654</td>\n",
       "      <td>不錯</td>\n",
       "      <td>0.155141</td>\n",
       "      <td>營地</td>\n",
       "      <td>0.120963</td>\n",
       "      <td>美學</td>\n",
       "      <td>0.122866</td>\n",
       "      <td>時間</td>\n",
       "      <td>0.140328</td>\n",
       "      <td>泡腳</td>\n",
       "      <td>0.137799</td>\n",
       "      <td>精油</td>\n",
       "      <td>0.117088</td>\n",
       "    </tr>\n",
       "    <tr>\n",
       "      <th>5</th>\n",
       "      <td>波屋</td>\n",
       "      <td>0.143052</td>\n",
       "      <td>動物</td>\n",
       "      <td>0.153677</td>\n",
       "      <td>視野</td>\n",
       "      <td>0.120572</td>\n",
       "      <td>適合</td>\n",
       "      <td>0.120857</td>\n",
       "      <td>博物館</td>\n",
       "      <td>0.133179</td>\n",
       "      <td>暑假</td>\n",
       "      <td>0.134227</td>\n",
       "      <td>時間</td>\n",
       "      <td>0.112505</td>\n",
       "    </tr>\n",
       "    <tr>\n",
       "      <th>6</th>\n",
       "      <td>日式</td>\n",
       "      <td>0.124640</td>\n",
       "      <td>咖波</td>\n",
       "      <td>0.147440</td>\n",
       "      <td>日式建築</td>\n",
       "      <td>0.115677</td>\n",
       "      <td>窯烤麵包</td>\n",
       "      <td>0.119883</td>\n",
       "      <td>觀光工廠</td>\n",
       "      <td>0.133160</td>\n",
       "      <td>景觀餐廳</td>\n",
       "      <td>0.129025</td>\n",
       "      <td>青鳥</td>\n",
       "      <td>0.109626</td>\n",
       "    </tr>\n",
       "    <tr>\n",
       "      <th>7</th>\n",
       "      <td>動物</td>\n",
       "      <td>0.121347</td>\n",
       "      <td>window</td>\n",
       "      <td>0.129823</td>\n",
       "      <td>夢幻</td>\n",
       "      <td>0.111356</td>\n",
       "      <td>裝備</td>\n",
       "      <td>0.116096</td>\n",
       "      <td>地景</td>\n",
       "      <td>0.130396</td>\n",
       "      <td>入住</td>\n",
       "      <td>0.123155</td>\n",
       "      <td>料理</td>\n",
       "      <td>0.109209</td>\n",
       "    </tr>\n",
       "    <tr>\n",
       "      <th>8</th>\n",
       "      <td>停車場</td>\n",
       "      <td>0.120610</td>\n",
       "      <td>波斯菊</td>\n",
       "      <td>0.129169</td>\n",
       "      <td>裝備</td>\n",
       "      <td>0.106022</td>\n",
       "      <td>pizza</td>\n",
       "      <td>0.111634</td>\n",
       "      <td>大碗公溜滑梯</td>\n",
       "      <td>0.118400</td>\n",
       "      <td>機芯</td>\n",
       "      <td>0.120031</td>\n",
       "      <td>pizza</td>\n",
       "      <td>0.108668</td>\n",
       "    </tr>\n",
       "    <tr>\n",
       "      <th>9</th>\n",
       "      <td>吃起來</td>\n",
       "      <td>0.117851</td>\n",
       "      <td>老闆</td>\n",
       "      <td>0.127834</td>\n",
       "      <td>吃起來</td>\n",
       "      <td>0.105889</td>\n",
       "      <td>用餐</td>\n",
       "      <td>0.105593</td>\n",
       "      <td>落羽松</td>\n",
       "      <td>0.114980</td>\n",
       "      <td>台中后里</td>\n",
       "      <td>0.118479</td>\n",
       "      <td>協櫻</td>\n",
       "      <td>0.106795</td>\n",
       "    </tr>\n",
       "  </tbody>\n",
       "</table>\n",
       "</div>"
      ],
      "text/plain": [
       "       櫻花       cos     溜滑梯       cos    門票       cos     飯店       cos  \\\n",
       "0      老闆  0.171519     孩子們  0.190876    創作  0.177436     可愛  0.245765   \n",
       "1     溜滑梯  0.166381      建築  0.178039    生態  0.161908     戶外  0.171931   \n",
       "2      創作  0.148122      櫻花  0.166381    咖啡  0.147168     戲水  0.155212   \n",
       "3  大碗公溜滑梯  0.146144     繡球花  0.155903    小孩  0.120985     花園  0.141483   \n",
       "4    天空步道  0.145654      不錯  0.155141    營地  0.120963     美學  0.122866   \n",
       "5      波屋  0.143052      動物  0.153677    視野  0.120572     適合  0.120857   \n",
       "6      日式  0.124640      咖波  0.147440  日式建築  0.115677   窯烤麵包  0.119883   \n",
       "7      動物  0.121347  window  0.129823    夢幻  0.111356     裝備  0.116096   \n",
       "8     停車場  0.120610     波斯菊  0.129169    裝備  0.106022  pizza  0.111634   \n",
       "9     吃起來  0.117851      老闆  0.127834   吃起來  0.105889     用餐  0.105593   \n",
       "\n",
       "       民宿       cos    步道       cos     芒果       cos  \n",
       "0      開幕  0.169111   度空間  0.171941     夜市  0.160729  \n",
       "1      溫泉  0.168815    老闆  0.157370     火鍋  0.131234  \n",
       "2    營業時間  0.155166    規劃  0.157066     追蹤  0.120545  \n",
       "3      體驗  0.141767   波斯菊  0.147965     花況  0.118640  \n",
       "4      時間  0.140328    泡腳  0.137799     精油  0.117088  \n",
       "5     博物館  0.133179    暑假  0.134227     時間  0.112505  \n",
       "6    觀光工廠  0.133160  景觀餐廳  0.129025     青鳥  0.109626  \n",
       "7      地景  0.130396    入住  0.123155     料理  0.109209  \n",
       "8  大碗公溜滑梯  0.118400    機芯  0.120031  pizza  0.108668  \n",
       "9     落羽松  0.114980  台中后里  0.118479     協櫻  0.106795  "
      ]
     },
     "execution_count": 25,
     "metadata": {},
     "output_type": "execute_result"
    }
   ],
   "source": [
    "most_similar(model, [\"櫻花\", \"溜滑梯\", \"門票\", \"飯店\", \"民宿\", \"步道\", \"芒果\"])"
   ]
  },
  {
   "cell_type": "code",
   "execution_count": 26,
   "metadata": {},
   "outputs": [],
   "source": [
    "dict_df_classified = df_classified.where(df_classified.notnull(), None).to_dict()\n",
    "with open(\"preprocessed_data.json\", \"w\") as f:\n",
    "    json.dump(dict_df_classified, f, indent=2, ensure_ascii=False)"
   ]
  },
  {
   "cell_type": "code",
   "execution_count": 27,
   "metadata": {},
   "outputs": [],
   "source": [
    "model.save(\"word2vec.model\")"
   ]
  }
 ],
 "metadata": {
  "kernelspec": {
   "display_name": "Python 3",
   "language": "python",
   "name": "python3"
  },
  "language_info": {
   "codemirror_mode": {
    "name": "ipython",
    "version": 3
   },
   "file_extension": ".py",
   "mimetype": "text/x-python",
   "name": "python",
   "nbconvert_exporter": "python",
   "pygments_lexer": "ipython3",
   "version": "3.7.1"
  }
 },
 "nbformat": 4,
 "nbformat_minor": 4
}
