{
 "cells": [
  {
   "cell_type": "code",
   "execution_count": 1,
   "metadata": {},
   "outputs": [],
   "source": [
    "import json\n",
    "import re\n",
    "\n",
    "import pandas as pd\n",
    "from gensim.models.word2vec import Word2Vec"
   ]
  },
  {
   "cell_type": "code",
   "execution_count": 2,
   "metadata": {},
   "outputs": [],
   "source": [
    "df = pd.read_csv(\"classification_articles.csv\")"
   ]
  },
  {
   "cell_type": "markdown",
   "metadata": {},
   "source": [
    "# Data preprocessing"
   ]
  },
  {
   "cell_type": "code",
   "execution_count": 3,
   "metadata": {},
   "outputs": [],
   "source": [
    "# https://stackoverflow.com/questions/17796446/convert-a-list-to-a-string-and-back\n",
    "df[\"sentences\"] = df[\"sentences\"].apply(lambda s: eval(s))\n",
    "df[\"keyword_top10\"] = df[\"keyword_top10\"].apply(lambda s: eval(s))\n",
    "df[\"locations\"] = df[\"locations\"].apply(lambda s: eval(s))\n",
    "df[\"entity_address\"] = df[\"entity_address\"].apply(lambda s: eval(s))"
   ]
  },
  {
   "cell_type": "code",
   "execution_count": 4,
   "metadata": {},
   "outputs": [],
   "source": [
    "df_classified = df.loc[~df[\"self_defined_category\"].isna()]"
   ]
  },
  {
   "cell_type": "code",
   "execution_count": 5,
   "metadata": {},
   "outputs": [
    {
     "name": "stdout",
     "output_type": "stream",
     "text": [
      "# of total rows: 872\n"
     ]
    }
   ],
   "source": [
    "print(f\"# of total rows: {df.shape[0]}\")"
   ]
  },
  {
   "cell_type": "code",
   "execution_count": 6,
   "metadata": {},
   "outputs": [
    {
     "name": "stdout",
     "output_type": "stream",
     "text": [
      "# of rows with pre-defined category: 200\n"
     ]
    }
   ],
   "source": [
    "print(f\"# of rows with pre-defined category: {df_classified.shape[0]}\")"
   ]
  },
  {
   "cell_type": "markdown",
   "metadata": {},
   "source": [
    "# Explore categories and keywords"
   ]
  },
  {
   "cell_type": "code",
   "execution_count": 7,
   "metadata": {},
   "outputs": [
    {
     "name": "stdout",
     "output_type": "stream",
     "text": [
      "其它      79\n",
      "自然景觀    51\n",
      "人文藝術    38\n",
      "娛樂購物    32\n",
      "Name: self_defined_category, dtype: int64\n"
     ]
    }
   ],
   "source": [
    "df_classified[\"self_defined_category\"].value_counts()"
   ]
  },
  {
   "cell_type": "code",
   "execution_count": 8,
   "metadata": {},
   "outputs": [],
   "source": [
    "other_sentences = []\n",
    "for l in df_classified.loc[df_classified[\"self_defined_category\"] == \"其它\", \"sentences\"]:\n",
    "    other_sentences.extend(l)"
   ]
  },
  {
   "cell_type": "code",
   "execution_count": 9,
   "metadata": {},
   "outputs": [
    {
     "data": {
      "text/plain": [
       "飯店    14\n",
       "房間    12\n",
       "空間    11\n",
       "推薦    10\n",
       "景點    10\n",
       "住宿     9\n",
       "美食     8\n",
       "台中     8\n",
       "設施     7\n",
       "早餐     7\n",
       "dtype: int64"
      ]
     },
     "execution_count": 9,
     "metadata": {},
     "output_type": "execute_result"
    }
   ],
   "source": [
    "series_other = pd.Series(other_sentences)\n",
    "series_other.value_counts().head(10)"
   ]
  },
  {
   "cell_type": "code",
   "execution_count": 10,
   "metadata": {},
   "outputs": [],
   "source": [
    "# series_other.value_counts()[series_other.value_counts() > 1]"
   ]
  },
  {
   "cell_type": "code",
   "execution_count": 11,
   "metadata": {},
   "outputs": [],
   "source": [
    "nature_sentences = []\n",
    "for l in df_classified.loc[df_classified[\"self_defined_category\"] == \"自然景觀\", \"sentences\"]:\n",
    "    nature_sentences.extend(l)"
   ]
  },
  {
   "cell_type": "code",
   "execution_count": 12,
   "metadata": {},
   "outputs": [
    {
     "data": {
      "text/plain": [
       "景點        16\n",
       "櫻花        10\n",
       "2019       9\n",
       "js         9\n",
       "露營         8\n",
       "步道         8\n",
       "push       7\n",
       "window     7\n",
       "花況         6\n",
       "賞花         5\n",
       "dtype: int64"
      ]
     },
     "execution_count": 12,
     "metadata": {},
     "output_type": "execute_result"
    }
   ],
   "source": [
    "series_nature = pd.Series(nature_sentences)\n",
    "series_nature.value_counts().head(10)"
   ]
  },
  {
   "cell_type": "code",
   "execution_count": 13,
   "metadata": {},
   "outputs": [],
   "source": [
    "# series_nature.value_counts()[series_nature.value_counts() > 1]"
   ]
  },
  {
   "cell_type": "code",
   "execution_count": 14,
   "metadata": {},
   "outputs": [],
   "source": [
    "art_sentences = []\n",
    "for l in df_classified.loc[df_classified[\"self_defined_category\"] == \"人文藝術\", \"sentences\"]:\n",
    "    art_sentences.extend(l)"
   ]
  },
  {
   "cell_type": "code",
   "execution_count": 15,
   "metadata": {},
   "outputs": [
    {
     "data": {
      "text/plain": [
       "景點     11\n",
       "園區      5\n",
       "宜蘭      5\n",
       "台灣      5\n",
       "建築      4\n",
       "ig      4\n",
       "空間      4\n",
       "體驗      4\n",
       "打卡      4\n",
       "小朋友     4\n",
       "dtype: int64"
      ]
     },
     "execution_count": 15,
     "metadata": {},
     "output_type": "execute_result"
    }
   ],
   "source": [
    "series_art = pd.Series(art_sentences)\n",
    "series_art.value_counts().head(10)"
   ]
  },
  {
   "cell_type": "code",
   "execution_count": 16,
   "metadata": {},
   "outputs": [],
   "source": [
    "# series_art.value_counts()[series_art.value_counts() > 1]"
   ]
  },
  {
   "cell_type": "code",
   "execution_count": 17,
   "metadata": {},
   "outputs": [],
   "source": [
    "shop_sentences = []\n",
    "for l in df_classified.loc[df_classified[\"self_defined_category\"] == \"娛樂購物\", \"sentences\"]:\n",
    "    shop_sentences.extend(l)"
   ]
  },
  {
   "cell_type": "code",
   "execution_count": 18,
   "metadata": {},
   "outputs": [
    {
     "data": {
      "text/plain": [
       "小朋友    6\n",
       "溜滑梯    5\n",
       "公園     4\n",
       "js     4\n",
       "diy    3\n",
       "台中     3\n",
       "桃園     3\n",
       "台南     3\n",
       "宜蘭     3\n",
       "特賣會    3\n",
       "dtype: int64"
      ]
     },
     "execution_count": 18,
     "metadata": {},
     "output_type": "execute_result"
    }
   ],
   "source": [
    "series_shop = pd.Series(shop_sentences)\n",
    "series_shop.value_counts().head(10)"
   ]
  },
  {
   "cell_type": "code",
   "execution_count": 19,
   "metadata": {},
   "outputs": [],
   "source": [
    "# series_shop.value_counts()[series_shop.value_counts() > 1]"
   ]
  },
  {
   "cell_type": "code",
   "execution_count": 20,
   "metadata": {},
   "outputs": [
    {
     "data": {
      "text/plain": [
       "景點        3\n",
       "空間        2\n",
       "小朋友       2\n",
       "宜蘭        2\n",
       "台中        2\n",
       "js        2\n",
       "早餐        1\n",
       "房間        1\n",
       "台南        1\n",
       "美食        1\n",
       "體驗        1\n",
       "台灣        1\n",
       "push      1\n",
       "賞花        1\n",
       "溜滑梯       1\n",
       "飯店        1\n",
       "建築        1\n",
       "露營        1\n",
       "公園        1\n",
       "特賣會       1\n",
       "ig        1\n",
       "步道        1\n",
       "2019      1\n",
       "打卡        1\n",
       "diy       1\n",
       "住宿        1\n",
       "設施        1\n",
       "櫻花        1\n",
       "window    1\n",
       "花況        1\n",
       "推薦        1\n",
       "桃園        1\n",
       "園區        1\n",
       "dtype: int64"
      ]
     },
     "execution_count": 20,
     "metadata": {},
     "output_type": "execute_result"
    }
   ],
   "source": [
    "# Find intersections of top-10-common keywords accross categories\n",
    "# (to be excluded in following predictions)\n",
    "series_common = (\n",
    "    series_other.value_counts().head(10).index\n",
    "        .append(series_art.value_counts().head(10).index)\n",
    "        .append(series_nature.value_counts().head(10).index)\n",
    "        .append(series_shop.value_counts().head(10).index)\n",
    ")\n",
    "series_common.value_counts()"
   ]
  },
  {
   "cell_type": "code",
   "execution_count": 21,
   "metadata": {},
   "outputs": [
    {
     "data": {
      "text/plain": [
       "['景點', '空間', '小朋友', '宜蘭', '台中', 'js']"
      ]
     },
     "execution_count": 21,
     "metadata": {},
     "output_type": "execute_result"
    }
   ],
   "source": [
    "list_excluding_keywords = series_common.value_counts()[series_common.value_counts() > 1].index.tolist()\n",
    "list_excluding_keywords"
   ]
  },
  {
   "cell_type": "code",
   "execution_count": 22,
   "metadata": {},
   "outputs": [
    {
     "data": {
      "text/plain": [
       "['情人橋',\n",
       " '達邦',\n",
       " '嘉義',\n",
       " '芭蕾城市渡假旅店',\n",
       " '亞太飯店',\n",
       " '大安區',\n",
       " '森林步道',\n",
       " '東海岸',\n",
       " '秘密花園',\n",
       " '水舞行館',\n",
       " '復興區',\n",
       " '員林',\n",
       " '三峽',\n",
       " '大雅',\n",
       " '谷關',\n",
       " '日本',\n",
       " '南方莊園渡假飯店',\n",
       " '墾丁',\n",
       " '歐洲',\n",
       " '竹北',\n",
       " '七股',\n",
       " '清水',\n",
       " '新北市',\n",
       " '糖廠',\n",
       " '冬山鄉',\n",
       " '新社',\n",
       " '太原',\n",
       " '拉拉山恩愛農場',\n",
       " '大溪',\n",
       " '美術館',\n",
       " '頭城',\n",
       " '總爺藝文中心',\n",
       " '台灣滷味博物館',\n",
       " '太平洋',\n",
       " '龍潭',\n",
       " '捷運忠孝復興站',\n",
       " '禾風新棧度假飯店',\n",
       " '巴黎',\n",
       " '海南',\n",
       " '樹谷農場',\n",
       " '曼谷',\n",
       " '客家文物館',\n",
       " '太平山森林遊樂區',\n",
       " '室內',\n",
       " '遠雄海洋公園',\n",
       " '台東',\n",
       " '國內',\n",
       " '西屯',\n",
       " '紅樓',\n",
       " '新竹縣',\n",
       " '帳篷內',\n",
       " '菱潭街興創基地',\n",
       " '赤崁璽樓民宿',\n",
       " '花蓮港',\n",
       " '南投',\n",
       " '探索私旅',\n",
       " '八卦山',\n",
       " '月眉糖廠',\n",
       " '童話世界',\n",
       " '自由天地民宿',\n",
       " '印度',\n",
       " '新竹',\n",
       " '青森',\n",
       " '瑞春醬油',\n",
       " '台中市',\n",
       " '休閒農業區',\n",
       " '桃園',\n",
       " '西螺',\n",
       " '台北',\n",
       " '高雄',\n",
       " '銅鑼',\n",
       " '中壢',\n",
       " '三重',\n",
       " '綠園道',\n",
       " '台中',\n",
       " '世界',\n",
       " '峇里島',\n",
       " '后里',\n",
       " '六龜區',\n",
       " '湖口',\n",
       " '信義區',\n",
       " '草屯',\n",
       " '功維敘隧道',\n",
       " '保安車站',\n",
       " '板橋',\n",
       " '台灣',\n",
       " '苗栗',\n",
       " '亞洲',\n",
       " '雲林',\n",
       " '屏東',\n",
       " '紅樹林站',\n",
       " '展覽館',\n",
       " '箱根',\n",
       " '澎湖跨海大橋',\n",
       " '鹿場',\n",
       " '青埔',\n",
       " '陽明山天籟渡假酒店',\n",
       " '南印度',\n",
       " '眺望',\n",
       " '文化村',\n",
       " '北投',\n",
       " '武陵農場',\n",
       " '后里區',\n",
       " '澎湖',\n",
       " '士林',\n",
       " '花蓮',\n",
       " '東港',\n",
       " '台南',\n",
       " '天元宮',\n",
       " '南門',\n",
       " '綠川',\n",
       " '松山區',\n",
       " '大湖',\n",
       " '西區',\n",
       " '彩虹',\n",
       " '宜蘭伯朗大道',\n",
       " '運動公園',\n",
       " '冬山',\n",
       " '白河',\n",
       " '二崁聚落',\n",
       " '新竹火車站',\n",
       " '華山',\n",
       " '青草湖',\n",
       " '花蓮理想<ModifierP>大地</ModifierP>渡假飯店',\n",
       " '基隆',\n",
       " '中山',\n",
       " '東旅',\n",
       " '新化',\n",
       " '新北',\n",
       " '泰安',\n",
       " '外埔',\n",
       " '美國',\n",
       " '南屯',\n",
       " '南寮',\n",
       " '孔廟',\n",
       " '羅東',\n",
       " '來了',\n",
       " '勤美術館',\n",
       " '勤美綠園道',\n",
       " '武德殿',\n",
       " '在水一方',\n",
       " '台北車站',\n",
       " '月亮',\n",
       " '彰化',\n",
       " '礁溪',\n",
       " '大甲',\n",
       " '卓蘭',\n",
       " '小北家',\n",
       " '東豐自行車綠廊',\n",
       " '東勢',\n",
       " '報告班長',\n",
       " '準園休閒農場',\n",
       " '大甲溪',\n",
       " '臺中市眷村文物館',\n",
       " '村却國際溫泉酒店',\n",
       " '鯉魚潭',\n",
       " '吉園休閒農場',\n",
       " '南京三民站',\n",
       " '北屯',\n",
       " '陽明山',\n",
       " '鳥人創意旅店',\n",
       " '烏來',\n",
       " '易家仙人掌冰',\n",
       " '小琉球',\n",
       " '宜蘭',\n",
       " '蜜餞形象館',\n",
       " '車路墘教會',\n",
       " '蘆竹',\n",
       " '東大門夜市',\n",
       " '楠西',\n",
       " '梅花',\n",
       " '逢甲夜市',\n",
       " '台灣穀堡',\n",
       " '桃園國際棒球場',\n",
       " '大溪老街',\n",
       " '南庄',\n",
       " '泰國',\n",
       " '綠舞國際觀光飯店',\n",
       " '壽豐',\n",
       " '大安',\n",
       " '武荖坑風景區',\n",
       " '麻豆',\n",
       " '台江國家公園遊客中心',\n",
       " '華山文創園區',\n",
       " '露營區',\n",
       " '淡水',\n",
       " '松山',\n",
       " '集集火車站',\n",
       " '黃金瀑布',\n",
       " '環保公園',\n",
       " '望龍埤',\n",
       " '玉井',\n",
       " '鰲峰山運動公園',\n",
       " '圓林仔社區',\n",
       " '觀光夜市',\n",
       " '大陸',\n",
       " '文物館',\n",
       " '苗栗市',\n",
       " '恆春',\n",
       " '馬來西亞']"
      ]
     },
     "execution_count": 22,
     "metadata": {},
     "output_type": "execute_result"
    }
   ],
   "source": [
    "# Keywords can't be locations either\n",
    "list_excluding_locations = [s for l in df_classified[\"locations\"] for s in l]\n",
    "list_excluding_locations = list(set(list_excluding_locations))\n",
    "list_excluding_locations"
   ]
  },
  {
   "cell_type": "code",
   "execution_count": 23,
   "metadata": {},
   "outputs": [],
   "source": [
    "df[\"processed_sentences\"] = df[\"sentences\"].apply(\n",
    "    lambda l: [\n",
    "        s for s in l\n",
    "        # Excluding common keywords\n",
    "        if s not in list_excluding_keywords and\n",
    "        # Excluding locations\n",
    "        s not in list_excluding_locations and\n",
    "        # Excluding pure digits\n",
    "        not re.match(r\"\\d+$\", s)\n",
    "    ]\n",
    ")"
   ]
  },
  {
   "cell_type": "markdown",
   "metadata": {},
   "source": [
    "# Word2Vec"
   ]
  },
  {
   "cell_type": "code",
   "execution_count": 24,
   "metadata": {},
   "outputs": [],
   "source": [
    "def most_similar(w2v_model, words, topn=10):\n",
    "    similar_df = pd.DataFrame()\n",
    "    for word in words:\n",
    "        try:\n",
    "            similar_words = pd.DataFrame(w2v_model.wv.most_similar(word, topn=topn), columns=[word, 'cos'])\n",
    "            similar_df = pd.concat([similar_df, similar_words], axis=1)\n",
    "        except KeyError:\n",
    "            print(word, \"not found in Word2Vec model!\")\n",
    "    return similar_df"
   ]
  },
  {
   "cell_type": "code",
   "execution_count": 25,
   "metadata": {},
   "outputs": [],
   "source": [
    "model = Word2Vec(df[\"processed_sentences\"], size=250, iter=10, min_count=2, sg=1, window=1)"
   ]
  },
  {
   "cell_type": "code",
   "execution_count": 26,
   "metadata": {},
   "outputs": [
    {
     "data": {
      "text/html": [
       "<div>\n",
       "<style scoped>\n",
       "    .dataframe tbody tr th:only-of-type {\n",
       "        vertical-align: middle;\n",
       "    }\n",
       "\n",
       "    .dataframe tbody tr th {\n",
       "        vertical-align: top;\n",
       "    }\n",
       "\n",
       "    .dataframe thead th {\n",
       "        text-align: right;\n",
       "    }\n",
       "</style>\n",
       "<table border=\"1\" class=\"dataframe\">\n",
       "  <thead>\n",
       "    <tr style=\"text-align: right;\">\n",
       "      <th></th>\n",
       "      <th>櫻花</th>\n",
       "      <th>cos</th>\n",
       "      <th>溜滑梯</th>\n",
       "      <th>cos</th>\n",
       "      <th>門票</th>\n",
       "      <th>cos</th>\n",
       "      <th>飯店</th>\n",
       "      <th>cos</th>\n",
       "      <th>民宿</th>\n",
       "      <th>cos</th>\n",
       "      <th>步道</th>\n",
       "      <th>cos</th>\n",
       "      <th>芒果</th>\n",
       "      <th>cos</th>\n",
       "    </tr>\n",
       "  </thead>\n",
       "  <tbody>\n",
       "    <tr>\n",
       "      <th>0</th>\n",
       "      <td>步道</td>\n",
       "      <td>0.618693</td>\n",
       "      <td>免費</td>\n",
       "      <td>0.706825</td>\n",
       "      <td>體驗</td>\n",
       "      <td>0.656593</td>\n",
       "      <td>打卡</td>\n",
       "      <td>0.745094</td>\n",
       "      <td>打卡</td>\n",
       "      <td>0.746780</td>\n",
       "      <td>美食</td>\n",
       "      <td>0.710871</td>\n",
       "      <td>飯店</td>\n",
       "      <td>0.489679</td>\n",
       "    </tr>\n",
       "    <tr>\n",
       "      <th>1</th>\n",
       "      <td>美食</td>\n",
       "      <td>0.608576</td>\n",
       "      <td>飯店</td>\n",
       "      <td>0.686636</td>\n",
       "      <td>美食</td>\n",
       "      <td>0.655374</td>\n",
       "      <td>民宿</td>\n",
       "      <td>0.743819</td>\n",
       "      <td>飯店</td>\n",
       "      <td>0.743818</td>\n",
       "      <td>園區</td>\n",
       "      <td>0.700030</td>\n",
       "      <td>喜歡</td>\n",
       "      <td>0.479636</td>\n",
       "    </tr>\n",
       "    <tr>\n",
       "      <th>2</th>\n",
       "      <td>主題</td>\n",
       "      <td>0.606184</td>\n",
       "      <td>推薦</td>\n",
       "      <td>0.675625</td>\n",
       "      <td>打卡</td>\n",
       "      <td>0.649058</td>\n",
       "      <td>主題</td>\n",
       "      <td>0.712123</td>\n",
       "      <td>喜歡</td>\n",
       "      <td>0.717999</td>\n",
       "      <td>喜歡</td>\n",
       "      <td>0.699814</td>\n",
       "      <td>活動</td>\n",
       "      <td>0.477327</td>\n",
       "    </tr>\n",
       "    <tr>\n",
       "      <th>3</th>\n",
       "      <td>飯店</td>\n",
       "      <td>0.575091</td>\n",
       "      <td>體驗</td>\n",
       "      <td>0.674279</td>\n",
       "      <td>免費</td>\n",
       "      <td>0.626249</td>\n",
       "      <td>喜歡</td>\n",
       "      <td>0.711856</td>\n",
       "      <td>適合</td>\n",
       "      <td>0.705853</td>\n",
       "      <td>民宿</td>\n",
       "      <td>0.697728</td>\n",
       "      <td>美食</td>\n",
       "      <td>0.474001</td>\n",
       "    </tr>\n",
       "    <tr>\n",
       "      <th>4</th>\n",
       "      <td>設計</td>\n",
       "      <td>0.569717</td>\n",
       "      <td>打卡</td>\n",
       "      <td>0.664555</td>\n",
       "      <td>步道</td>\n",
       "      <td>0.622614</td>\n",
       "      <td>活動</td>\n",
       "      <td>0.708912</td>\n",
       "      <td>步道</td>\n",
       "      <td>0.697728</td>\n",
       "      <td>飯店</td>\n",
       "      <td>0.693598</td>\n",
       "      <td>園區</td>\n",
       "      <td>0.470462</td>\n",
       "    </tr>\n",
       "    <tr>\n",
       "      <th>5</th>\n",
       "      <td>喜歡</td>\n",
       "      <td>0.569102</td>\n",
       "      <td>感覺</td>\n",
       "      <td>0.664494</td>\n",
       "      <td>園區</td>\n",
       "      <td>0.622223</td>\n",
       "      <td>公園</td>\n",
       "      <td>0.702633</td>\n",
       "      <td>設施</td>\n",
       "      <td>0.693330</td>\n",
       "      <td>主題</td>\n",
       "      <td>0.688553</td>\n",
       "      <td>打卡</td>\n",
       "      <td>0.454905</td>\n",
       "    </tr>\n",
       "    <tr>\n",
       "      <th>6</th>\n",
       "      <td>打卡</td>\n",
       "      <td>0.560988</td>\n",
       "      <td>設施</td>\n",
       "      <td>0.662848</td>\n",
       "      <td>參觀</td>\n",
       "      <td>0.621438</td>\n",
       "      <td>設施</td>\n",
       "      <td>0.698961</td>\n",
       "      <td>設計</td>\n",
       "      <td>0.689648</td>\n",
       "      <td>打卡</td>\n",
       "      <td>0.687769</td>\n",
       "      <td>步道</td>\n",
       "      <td>0.454352</td>\n",
       "    </tr>\n",
       "    <tr>\n",
       "      <th>7</th>\n",
       "      <td>可愛</td>\n",
       "      <td>0.558152</td>\n",
       "      <td>活動</td>\n",
       "      <td>0.661363</td>\n",
       "      <td>房間</td>\n",
       "      <td>0.619572</td>\n",
       "      <td>免費</td>\n",
       "      <td>0.697114</td>\n",
       "      <td>免費</td>\n",
       "      <td>0.689298</td>\n",
       "      <td>適合</td>\n",
       "      <td>0.683312</td>\n",
       "      <td>民宿</td>\n",
       "      <td>0.444070</td>\n",
       "    </tr>\n",
       "    <tr>\n",
       "      <th>8</th>\n",
       "      <td>id</td>\n",
       "      <td>0.550712</td>\n",
       "      <td>民宿</td>\n",
       "      <td>0.657386</td>\n",
       "      <td>喜歡</td>\n",
       "      <td>0.619081</td>\n",
       "      <td>步道</td>\n",
       "      <td>0.693598</td>\n",
       "      <td>活動</td>\n",
       "      <td>0.684620</td>\n",
       "      <td>入住</td>\n",
       "      <td>0.682987</td>\n",
       "      <td>window</td>\n",
       "      <td>0.441350</td>\n",
       "    </tr>\n",
       "    <tr>\n",
       "      <th>9</th>\n",
       "      <td>民宿</td>\n",
       "      <td>0.545034</td>\n",
       "      <td>小孩</td>\n",
       "      <td>0.655929</td>\n",
       "      <td>民宿</td>\n",
       "      <td>0.618751</td>\n",
       "      <td>感覺</td>\n",
       "      <td>0.688922</td>\n",
       "      <td>推薦</td>\n",
       "      <td>0.679703</td>\n",
       "      <td>推薦</td>\n",
       "      <td>0.682492</td>\n",
       "      <td>主題</td>\n",
       "      <td>0.440389</td>\n",
       "    </tr>\n",
       "  </tbody>\n",
       "</table>\n",
       "</div>"
      ],
      "text/plain": [
       "   櫻花       cos 溜滑梯       cos  門票       cos  飯店       cos  民宿       cos  步道  \\\n",
       "0  步道  0.618693  免費  0.706825  體驗  0.656593  打卡  0.745094  打卡  0.746780  美食   \n",
       "1  美食  0.608576  飯店  0.686636  美食  0.655374  民宿  0.743819  飯店  0.743818  園區   \n",
       "2  主題  0.606184  推薦  0.675625  打卡  0.649058  主題  0.712123  喜歡  0.717999  喜歡   \n",
       "3  飯店  0.575091  體驗  0.674279  免費  0.626249  喜歡  0.711856  適合  0.705853  民宿   \n",
       "4  設計  0.569717  打卡  0.664555  步道  0.622614  活動  0.708912  步道  0.697728  飯店   \n",
       "5  喜歡  0.569102  感覺  0.664494  園區  0.622223  公園  0.702633  設施  0.693330  主題   \n",
       "6  打卡  0.560988  設施  0.662848  參觀  0.621438  設施  0.698961  設計  0.689648  打卡   \n",
       "7  可愛  0.558152  活動  0.661363  房間  0.619572  免費  0.697114  免費  0.689298  適合   \n",
       "8  id  0.550712  民宿  0.657386  喜歡  0.619081  步道  0.693598  活動  0.684620  入住   \n",
       "9  民宿  0.545034  小孩  0.655929  民宿  0.618751  感覺  0.688922  推薦  0.679703  推薦   \n",
       "\n",
       "        cos      芒果       cos  \n",
       "0  0.710871      飯店  0.489679  \n",
       "1  0.700030      喜歡  0.479636  \n",
       "2  0.699814      活動  0.477327  \n",
       "3  0.697728      美食  0.474001  \n",
       "4  0.693598      園區  0.470462  \n",
       "5  0.688553      打卡  0.454905  \n",
       "6  0.687769      步道  0.454352  \n",
       "7  0.683312      民宿  0.444070  \n",
       "8  0.682987  window  0.441350  \n",
       "9  0.682492      主題  0.440389  "
      ]
     },
     "execution_count": 26,
     "metadata": {},
     "output_type": "execute_result"
    }
   ],
   "source": [
    "most_similar(model, [\"櫻花\", \"溜滑梯\", \"門票\", \"飯店\", \"民宿\", \"步道\", \"芒果\"])"
   ]
  },
  {
   "cell_type": "code",
   "execution_count": 27,
   "metadata": {},
   "outputs": [],
   "source": [
    "dict_df_classified = df.where(df.notnull(), None).to_dict()\n",
    "with open(\"preprocessed_data.json\", \"w\") as f:\n",
    "    json.dump(dict_df_classified, f, indent=2, ensure_ascii=False)"
   ]
  },
  {
   "cell_type": "code",
   "execution_count": 28,
   "metadata": {},
   "outputs": [],
   "source": [
    "model.save(\"word2vec.model\")"
   ]
  }
 ],
 "metadata": {
  "kernelspec": {
   "display_name": "Python 3",
   "language": "python",
   "name": "python3"
  },
  "language_info": {
   "codemirror_mode": {
    "name": "ipython",
    "version": 3
   },
   "file_extension": ".py",
   "mimetype": "text/x-python",
   "name": "python",
   "nbconvert_exporter": "python",
   "pygments_lexer": "ipython3",
   "version": "3.7.1"
  }
 },
 "nbformat": 4,
 "nbformat_minor": 4
}
