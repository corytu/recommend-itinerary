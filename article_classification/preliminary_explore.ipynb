{
 "cells": [
  {
   "cell_type": "code",
   "execution_count": 1,
   "metadata": {},
   "outputs": [],
   "source": [
    "import json\n",
    "import re\n",
    "\n",
    "import pandas as pd\n",
    "from gensim.models.word2vec import Word2Vec"
   ]
  },
  {
   "cell_type": "code",
   "execution_count": 2,
   "metadata": {},
   "outputs": [],
   "source": [
    "df = pd.read_csv(\"classification_articles.csv\")"
   ]
  },
  {
   "cell_type": "markdown",
   "metadata": {},
   "source": [
    "# Data preprocessing"
   ]
  },
  {
   "cell_type": "code",
   "execution_count": 3,
   "metadata": {},
   "outputs": [],
   "source": [
    "# https://stackoverflow.com/questions/17796446/convert-a-list-to-a-string-and-back\n",
    "df[\"sentences\"] = df[\"sentences\"].apply(lambda s: eval(s))\n",
    "df[\"keyword_top10\"] = df[\"keyword_top10\"].apply(lambda s: eval(s))\n",
    "df[\"locations\"] = df[\"locations\"].apply(lambda s: eval(s))\n",
    "df[\"entity_address\"] = df[\"entity_address\"].apply(lambda s: eval(s))"
   ]
  },
  {
   "cell_type": "code",
   "execution_count": 4,
   "metadata": {},
   "outputs": [],
   "source": [
    "df_classified = df.loc[~df[\"self_defined_category\"].isna()]"
   ]
  },
  {
   "cell_type": "code",
   "execution_count": 5,
   "metadata": {},
   "outputs": [
    {
     "data": {
      "text/plain": [
       "(872, 7)"
      ]
     },
     "execution_count": 5,
     "metadata": {},
     "output_type": "execute_result"
    }
   ],
   "source": [
    "df.shape"
   ]
  },
  {
   "cell_type": "code",
   "execution_count": 6,
   "metadata": {},
   "outputs": [
    {
     "data": {
      "text/plain": [
       "(200, 7)"
      ]
     },
     "execution_count": 6,
     "metadata": {},
     "output_type": "execute_result"
    }
   ],
   "source": [
    "df_classified.shape"
   ]
  },
  {
   "cell_type": "markdown",
   "metadata": {},
   "source": [
    "# Explore categories and keywords"
   ]
  },
  {
   "cell_type": "code",
   "execution_count": 7,
   "metadata": {},
   "outputs": [
    {
     "data": {
      "text/plain": [
       "其它      79\n",
       "自然景觀    51\n",
       "人文藝術    38\n",
       "娛樂購物    32\n",
       "Name: self_defined_category, dtype: int64"
      ]
     },
     "execution_count": 7,
     "metadata": {},
     "output_type": "execute_result"
    }
   ],
   "source": [
    "df_classified[\"self_defined_category\"].value_counts()"
   ]
  },
  {
   "cell_type": "code",
   "execution_count": 8,
   "metadata": {},
   "outputs": [],
   "source": [
    "other_sentences = []\n",
    "for l in df_classified.loc[df_classified[\"self_defined_category\"] == \"其它\", \"sentences\"]:\n",
    "    other_sentences.extend(l)"
   ]
  },
  {
   "cell_type": "code",
   "execution_count": 9,
   "metadata": {},
   "outputs": [
    {
     "data": {
      "text/plain": [
       "飯店    14\n",
       "房間    12\n",
       "空間    11\n",
       "景點    10\n",
       "推薦    10\n",
       "住宿     9\n",
       "台中     8\n",
       "美食     8\n",
       "設施     7\n",
       "早餐     7\n",
       "dtype: int64"
      ]
     },
     "execution_count": 9,
     "metadata": {},
     "output_type": "execute_result"
    }
   ],
   "source": [
    "series_other = pd.Series(other_sentences)\n",
    "series_other.value_counts().head(10)"
   ]
  },
  {
   "cell_type": "code",
   "execution_count": 10,
   "metadata": {},
   "outputs": [
    {
     "data": {
      "text/plain": [
       "飯店    14\n",
       "房間    12\n",
       "空間    11\n",
       "景點    10\n",
       "推薦    10\n",
       "      ..\n",
       "龍潭     2\n",
       "嘉義     2\n",
       "寶來     2\n",
       "台北     2\n",
       "時間     2\n",
       "Length: 99, dtype: int64"
      ]
     },
     "execution_count": 10,
     "metadata": {},
     "output_type": "execute_result"
    }
   ],
   "source": [
    "series_other.value_counts()[series_other.value_counts() > 1]"
   ]
  },
  {
   "cell_type": "code",
   "execution_count": 11,
   "metadata": {},
   "outputs": [],
   "source": [
    "nature_sentences = []\n",
    "for l in df_classified.loc[df_classified[\"self_defined_category\"] == \"自然景觀\", \"sentences\"]:\n",
    "    nature_sentences.extend(l)"
   ]
  },
  {
   "cell_type": "code",
   "execution_count": 12,
   "metadata": {},
   "outputs": [
    {
     "data": {
      "text/plain": [
       "景點        16\n",
       "櫻花        10\n",
       "2019       9\n",
       "js         9\n",
       "露營         8\n",
       "步道         8\n",
       "window     7\n",
       "push       7\n",
       "花況         6\n",
       "賞櫻         5\n",
       "dtype: int64"
      ]
     },
     "execution_count": 12,
     "metadata": {},
     "output_type": "execute_result"
    }
   ],
   "source": [
    "series_nature = pd.Series(nature_sentences)\n",
    "series_nature.value_counts().head(10)"
   ]
  },
  {
   "cell_type": "code",
   "execution_count": 13,
   "metadata": {},
   "outputs": [
    {
     "data": {
      "text/plain": [
       "景點      16\n",
       "櫻花      10\n",
       "2019     9\n",
       "js       9\n",
       "露營       8\n",
       "        ..\n",
       "農場       2\n",
       "富士櫻      2\n",
       "精油       2\n",
       "小木屋      2\n",
       "免費       2\n",
       "Length: 64, dtype: int64"
      ]
     },
     "execution_count": 13,
     "metadata": {},
     "output_type": "execute_result"
    }
   ],
   "source": [
    "series_nature.value_counts()[series_nature.value_counts() > 1]"
   ]
  },
  {
   "cell_type": "code",
   "execution_count": 14,
   "metadata": {},
   "outputs": [],
   "source": [
    "art_sentences = []\n",
    "for l in df_classified.loc[df_classified[\"self_defined_category\"] == \"人文藝術\", \"sentences\"]:\n",
    "    art_sentences.extend(l)"
   ]
  },
  {
   "cell_type": "code",
   "execution_count": 15,
   "metadata": {},
   "outputs": [
    {
     "data": {
      "text/plain": [
       "景點     11\n",
       "宜蘭      5\n",
       "園區      5\n",
       "台灣      5\n",
       "小朋友     4\n",
       "ig      4\n",
       "空間      4\n",
       "體驗      4\n",
       "建築      4\n",
       "打卡      4\n",
       "dtype: int64"
      ]
     },
     "execution_count": 15,
     "metadata": {},
     "output_type": "execute_result"
    }
   ],
   "source": [
    "series_art = pd.Series(art_sentences)\n",
    "series_art.value_counts().head(10)"
   ]
  },
  {
   "cell_type": "code",
   "execution_count": 16,
   "metadata": {},
   "outputs": [
    {
     "data": {
      "text/plain": [
       "景點        11\n",
       "宜蘭         5\n",
       "園區         5\n",
       "台灣         5\n",
       "小朋友        4\n",
       "ig         4\n",
       "空間         4\n",
       "體驗         4\n",
       "建築         4\n",
       "打卡         4\n",
       "藝術         3\n",
       "台中         3\n",
       "博物館        3\n",
       "武淵         3\n",
       "推薦         3\n",
       "公園         3\n",
       "免費         3\n",
       "水火同源       3\n",
       "閱讀         3\n",
       "現代         2\n",
       "日式         2\n",
       "diy        2\n",
       "參觀         2\n",
       "客家         2\n",
       "苗栗市        2\n",
       "地景         2\n",
       "書店         2\n",
       "桃園         2\n",
       "大碗公溜滑梯     2\n",
       "門票         2\n",
       "沙雕         2\n",
       "陀螺         2\n",
       "龍潭         2\n",
       "火車         2\n",
       "草皮         2\n",
       "音樂         2\n",
       "溜滑梯        2\n",
       "鍾肇政        2\n",
       "協櫻         2\n",
       "宿舍         2\n",
       "戲水         2\n",
       "餐廳         2\n",
       "機芯         2\n",
       "展覽         2\n",
       "創作         2\n",
       "泡腳         2\n",
       "青鳥         2\n",
       "幾米         2\n",
       "華山         2\n",
       "咖啡         2\n",
       "台南         2\n",
       "指尖         2\n",
       "時間         2\n",
       "活動         2\n",
       "日式建築       2\n",
       "dtype: int64"
      ]
     },
     "execution_count": 16,
     "metadata": {},
     "output_type": "execute_result"
    }
   ],
   "source": [
    "series_art.value_counts()[series_art.value_counts() > 1]"
   ]
  },
  {
   "cell_type": "code",
   "execution_count": 17,
   "metadata": {},
   "outputs": [],
   "source": [
    "shop_sentences = []\n",
    "for l in df_classified.loc[df_classified[\"self_defined_category\"] == \"娛樂購物\", \"sentences\"]:\n",
    "    shop_sentences.extend(l)"
   ]
  },
  {
   "cell_type": "code",
   "execution_count": 18,
   "metadata": {},
   "outputs": [
    {
     "data": {
      "text/plain": [
       "小朋友    6\n",
       "溜滑梯    5\n",
       "js     4\n",
       "公園     4\n",
       "台中     3\n",
       "特賣會    3\n",
       "宜蘭     3\n",
       "台南     3\n",
       "diy    3\n",
       "中壢     3\n",
       "dtype: int64"
      ]
     },
     "execution_count": 18,
     "metadata": {},
     "output_type": "execute_result"
    }
   ],
   "source": [
    "series_shop = pd.Series(shop_sentences)\n",
    "series_shop.value_counts().head(10)"
   ]
  },
  {
   "cell_type": "code",
   "execution_count": 19,
   "metadata": {},
   "outputs": [
    {
     "data": {
      "text/plain": [
       "小朋友       6\n",
       "溜滑梯       5\n",
       "js        4\n",
       "公園        4\n",
       "台中        3\n",
       "特賣會       3\n",
       "宜蘭        3\n",
       "台南        3\n",
       "diy       3\n",
       "中壢        3\n",
       "小米        3\n",
       "桃園        3\n",
       "打卡        3\n",
       "可愛        2\n",
       "觀光工廠      2\n",
       "開幕        2\n",
       "大江購物中心    2\n",
       "體驗        2\n",
       "台中后里      2\n",
       "門票        2\n",
       "喜歡        2\n",
       "空間        2\n",
       "參考        2\n",
       "球池        2\n",
       "吉米        2\n",
       "設施        2\n",
       "美食        2\n",
       "push      2\n",
       "id        2\n",
       "window    2\n",
       "花蓮        2\n",
       "台灣        2\n",
       "遊戲場       2\n",
       "親子        2\n",
       "dtype: int64"
      ]
     },
     "execution_count": 19,
     "metadata": {},
     "output_type": "execute_result"
    }
   ],
   "source": [
    "series_shop.value_counts()[series_shop.value_counts() > 1]"
   ]
  },
  {
   "cell_type": "code",
   "execution_count": 20,
   "metadata": {},
   "outputs": [
    {
     "data": {
      "text/plain": [
       "景點        3\n",
       "台中        2\n",
       "空間        2\n",
       "小朋友       2\n",
       "js        2\n",
       "宜蘭        2\n",
       "diy       1\n",
       "建築        1\n",
       "櫻花        1\n",
       "中壢        1\n",
       "推薦        1\n",
       "push      1\n",
       "設施        1\n",
       "特賣會       1\n",
       "步道        1\n",
       "住宿        1\n",
       "體驗        1\n",
       "ig        1\n",
       "早餐        1\n",
       "飯店        1\n",
       "溜滑梯       1\n",
       "打卡        1\n",
       "公園        1\n",
       "園區        1\n",
       "賞櫻        1\n",
       "美食        1\n",
       "台灣        1\n",
       "2019      1\n",
       "花況        1\n",
       "window    1\n",
       "露營        1\n",
       "房間        1\n",
       "台南        1\n",
       "dtype: int64"
      ]
     },
     "execution_count": 20,
     "metadata": {},
     "output_type": "execute_result"
    }
   ],
   "source": [
    "# Find intersections of top-10-common keywords accross categories\n",
    "# (to be excluded in following predictions)\n",
    "series_common = (\n",
    "    series_other.value_counts().head(10).index\n",
    "        .append(series_art.value_counts().head(10).index)\n",
    "        .append(series_nature.value_counts().head(10).index)\n",
    "        .append(series_shop.value_counts().head(10).index)\n",
    ")\n",
    "series_common.value_counts()"
   ]
  },
  {
   "cell_type": "code",
   "execution_count": 21,
   "metadata": {},
   "outputs": [
    {
     "data": {
      "text/plain": [
       "['景點', '台中', '空間', '小朋友', 'js', '宜蘭']"
      ]
     },
     "execution_count": 21,
     "metadata": {},
     "output_type": "execute_result"
    }
   ],
   "source": [
    "list_excluding_keywords = series_common.value_counts()[series_common.value_counts() > 1].index.tolist()\n",
    "list_excluding_keywords"
   ]
  },
  {
   "cell_type": "code",
   "execution_count": 22,
   "metadata": {},
   "outputs": [
    {
     "data": {
      "text/plain": [
       "['東豐自行車綠廊',\n",
       " '新北',\n",
       " '高雄',\n",
       " '太原',\n",
       " '在水一方',\n",
       " '彩虹',\n",
       " '梅花',\n",
       " '臺中市眷村文物館',\n",
       " '勤美綠園道',\n",
       " '花蓮',\n",
       " '桃園國際棒球場',\n",
       " '綠園道',\n",
       " '美術館',\n",
       " '鰲峰山運動公園',\n",
       " '士林',\n",
       " '青埔',\n",
       " '水舞行館',\n",
       " '中山',\n",
       " '宜蘭伯朗大道',\n",
       " '嘉義',\n",
       " '谷關',\n",
       " '準園休閒農場',\n",
       " '苗栗',\n",
       " '卓蘭',\n",
       " '北投',\n",
       " '二崁聚落',\n",
       " '曼谷',\n",
       " '綠川',\n",
       " '保安車站',\n",
       " '童話世界',\n",
       " '東大門夜市',\n",
       " '武荖坑風景區',\n",
       " '陽明山天籟渡假酒店',\n",
       " '勤美術館',\n",
       " '峇里島',\n",
       " '板橋',\n",
       " '冬山',\n",
       " '三重',\n",
       " '赤崁璽樓民宿',\n",
       " '楠西',\n",
       " '大雅',\n",
       " '南寮',\n",
       " '七股',\n",
       " '西屯',\n",
       " '恆春',\n",
       " '太平山森林遊樂區',\n",
       " '冬山鄉',\n",
       " '綠舞國際觀光飯店',\n",
       " '后里區',\n",
       " '鯉魚潭',\n",
       " '村却國際溫泉酒店',\n",
       " '樹谷農場',\n",
       " '華山',\n",
       " '花蓮港',\n",
       " '遠雄海洋公園',\n",
       " '大安區',\n",
       " '歐洲',\n",
       " '望龍埤',\n",
       " '環保公園',\n",
       " '亞太飯店',\n",
       " '華山文創園區',\n",
       " '青草湖',\n",
       " '大溪老街',\n",
       " '紅樹林站',\n",
       " '運動公園',\n",
       " '大陸',\n",
       " '壽豐',\n",
       " '台江國家公園遊客中心',\n",
       " '小琉球',\n",
       " '新化',\n",
       " '墾丁',\n",
       " '文物館',\n",
       " '玉井',\n",
       " '海南',\n",
       " '拉拉山恩愛農場',\n",
       " '總爺藝文中心',\n",
       " '清水',\n",
       " '花蓮理想<ModifierP>大地</ModifierP>渡假飯店',\n",
       " '南方莊園渡假飯店',\n",
       " '松山區',\n",
       " '休閒農業區',\n",
       " '南京三民站',\n",
       " '蘆竹',\n",
       " '泰安',\n",
       " '巴黎',\n",
       " '月眉糖廠',\n",
       " '功維敘隧道',\n",
       " '室內',\n",
       " '達邦',\n",
       " '觀光夜市',\n",
       " '月亮',\n",
       " '新竹',\n",
       " '台北車站',\n",
       " '南印度',\n",
       " '六龜區',\n",
       " '天元宮',\n",
       " '台南',\n",
       " '大甲溪',\n",
       " '桃園',\n",
       " '台灣',\n",
       " '露營區',\n",
       " '報告班長',\n",
       " '大溪',\n",
       " '鳥人創意旅店',\n",
       " '白河',\n",
       " '美國',\n",
       " '中壢',\n",
       " '東港',\n",
       " '世界',\n",
       " '展覽館',\n",
       " '印度',\n",
       " '羅東',\n",
       " '黃金瀑布',\n",
       " '菱潭街興創基地',\n",
       " '草屯',\n",
       " '日本',\n",
       " '蜜餞形象館',\n",
       " '武德殿',\n",
       " '紅樓',\n",
       " '頭城',\n",
       " '台灣滷味博物館',\n",
       " '眺望',\n",
       " '芭蕾城市渡假旅店',\n",
       " '東勢',\n",
       " '南庄',\n",
       " '澎湖',\n",
       " '馬來西亞',\n",
       " '雲林',\n",
       " '南門',\n",
       " '信義區',\n",
       " '大湖',\n",
       " '大甲',\n",
       " '亞洲',\n",
       " '淡水',\n",
       " '彰化',\n",
       " '后里',\n",
       " '復興區',\n",
       " '新北市',\n",
       " '客家文物館',\n",
       " '銅鑼',\n",
       " '台北',\n",
       " '吉園休閒農場',\n",
       " '太平洋',\n",
       " '易家仙人掌冰',\n",
       " '探索私旅',\n",
       " '南屯',\n",
       " '龍潭',\n",
       " '瑞春醬油',\n",
       " '自由天地民宿',\n",
       " '東旅',\n",
       " '箱根',\n",
       " '松山',\n",
       " '竹北',\n",
       " '澎湖跨海大橋',\n",
       " '台灣穀堡',\n",
       " '糖廠',\n",
       " '麻豆',\n",
       " '車路墘教會',\n",
       " '台中市',\n",
       " '北屯',\n",
       " '外埔',\n",
       " '帳篷內',\n",
       " '新竹縣',\n",
       " '新社',\n",
       " '西螺',\n",
       " '泰國',\n",
       " '陽明山',\n",
       " '文化村',\n",
       " '禾風新棧度假飯店',\n",
       " '礁溪',\n",
       " '台中',\n",
       " '新竹火車站',\n",
       " '小北家',\n",
       " '員林',\n",
       " '苗栗市',\n",
       " '孔廟',\n",
       " '集集火車站',\n",
       " '鹿場',\n",
       " '屏東',\n",
       " '捷運忠孝復興站',\n",
       " '逢甲夜市',\n",
       " '大安',\n",
       " '國內',\n",
       " '來了',\n",
       " '台東',\n",
       " '三峽',\n",
       " '八卦山',\n",
       " '青森',\n",
       " '東海岸',\n",
       " '宜蘭',\n",
       " '南投',\n",
       " '武陵農場',\n",
       " '秘密花園',\n",
       " '西區',\n",
       " '基隆',\n",
       " '森林步道',\n",
       " '圓林仔社區',\n",
       " '湖口',\n",
       " '情人橋',\n",
       " '烏來']"
      ]
     },
     "execution_count": 22,
     "metadata": {},
     "output_type": "execute_result"
    }
   ],
   "source": [
    "# Keywords can't be locations either\n",
    "list_excluding_locations = [s for l in df_classified[\"locations\"] for s in l]\n",
    "list_excluding_locations = list(set(list_excluding_locations))\n",
    "list_excluding_locations"
   ]
  },
  {
   "cell_type": "code",
   "execution_count": 23,
   "metadata": {},
   "outputs": [],
   "source": [
    "df[\"sentences\"] = df[\"sentences\"].apply(\n",
    "    lambda l: [\n",
    "        s for s in l\n",
    "        # Excluding common keywords\n",
    "        if s not in list_excluding_keywords and\n",
    "        # Excluding locations\n",
    "        s not in list_excluding_locations and\n",
    "        # Excluding pure digits\n",
    "        not re.match(r\"\\d+$\", s)\n",
    "    ]\n",
    ")"
   ]
  },
  {
   "cell_type": "markdown",
   "metadata": {},
   "source": [
    "# Word2Vec"
   ]
  },
  {
   "cell_type": "code",
   "execution_count": 24,
   "metadata": {},
   "outputs": [],
   "source": [
    "def most_similar(w2v_model, words, topn=10):\n",
    "    similar_df = pd.DataFrame()\n",
    "    for word in words:\n",
    "        try:\n",
    "            similar_words = pd.DataFrame(w2v_model.wv.most_similar(word, topn=topn), columns=[word, 'cos'])\n",
    "            similar_df = pd.concat([similar_df, similar_words], axis=1)\n",
    "        except KeyError:\n",
    "            print(word, \"not found in Word2Vec model!\")\n",
    "    return similar_df"
   ]
  },
  {
   "cell_type": "code",
   "execution_count": 25,
   "metadata": {},
   "outputs": [],
   "source": [
    "model = Word2Vec(df[\"sentences\"], size=250, iter=10, min_count=2, sg=1, window=1)"
   ]
  },
  {
   "cell_type": "code",
   "execution_count": 26,
   "metadata": {},
   "outputs": [
    {
     "data": {
      "text/html": [
       "<div>\n",
       "<style scoped>\n",
       "    .dataframe tbody tr th:only-of-type {\n",
       "        vertical-align: middle;\n",
       "    }\n",
       "\n",
       "    .dataframe tbody tr th {\n",
       "        vertical-align: top;\n",
       "    }\n",
       "\n",
       "    .dataframe thead th {\n",
       "        text-align: right;\n",
       "    }\n",
       "</style>\n",
       "<table border=\"1\" class=\"dataframe\">\n",
       "  <thead>\n",
       "    <tr style=\"text-align: right;\">\n",
       "      <th></th>\n",
       "      <th>櫻花</th>\n",
       "      <th>cos</th>\n",
       "      <th>溜滑梯</th>\n",
       "      <th>cos</th>\n",
       "      <th>門票</th>\n",
       "      <th>cos</th>\n",
       "      <th>飯店</th>\n",
       "      <th>cos</th>\n",
       "      <th>民宿</th>\n",
       "      <th>cos</th>\n",
       "      <th>步道</th>\n",
       "      <th>cos</th>\n",
       "      <th>芒果</th>\n",
       "      <th>cos</th>\n",
       "    </tr>\n",
       "  </thead>\n",
       "  <tbody>\n",
       "    <tr>\n",
       "      <th>0</th>\n",
       "      <td>體驗</td>\n",
       "      <td>0.608565</td>\n",
       "      <td>飯店</td>\n",
       "      <td>0.759139</td>\n",
       "      <td>活動</td>\n",
       "      <td>0.701211</td>\n",
       "      <td>溜滑梯</td>\n",
       "      <td>0.759139</td>\n",
       "      <td>房間</td>\n",
       "      <td>0.731666</td>\n",
       "      <td>入住</td>\n",
       "      <td>0.748033</td>\n",
       "      <td>溜滑梯</td>\n",
       "      <td>0.446308</td>\n",
       "    </tr>\n",
       "    <tr>\n",
       "      <th>1</th>\n",
       "      <td>飯店</td>\n",
       "      <td>0.605470</td>\n",
       "      <td>餐廳</td>\n",
       "      <td>0.729688</td>\n",
       "      <td>房間</td>\n",
       "      <td>0.701100</td>\n",
       "      <td>體驗</td>\n",
       "      <td>0.748625</td>\n",
       "      <td>參觀</td>\n",
       "      <td>0.722958</td>\n",
       "      <td>飯店</td>\n",
       "      <td>0.742038</td>\n",
       "      <td>感覺</td>\n",
       "      <td>0.436269</td>\n",
       "    </tr>\n",
       "    <tr>\n",
       "      <th>2</th>\n",
       "      <td>民宿</td>\n",
       "      <td>0.599264</td>\n",
       "      <td>房間</td>\n",
       "      <td>0.714571</td>\n",
       "      <td>打卡</td>\n",
       "      <td>0.694466</td>\n",
       "      <td>房間</td>\n",
       "      <td>0.743905</td>\n",
       "      <td>感覺</td>\n",
       "      <td>0.718320</td>\n",
       "      <td>打卡</td>\n",
       "      <td>0.738534</td>\n",
       "      <td>適合</td>\n",
       "      <td>0.430391</td>\n",
       "    </tr>\n",
       "    <tr>\n",
       "      <th>3</th>\n",
       "      <td>房間</td>\n",
       "      <td>0.598699</td>\n",
       "      <td>免費</td>\n",
       "      <td>0.710693</td>\n",
       "      <td>步道</td>\n",
       "      <td>0.692031</td>\n",
       "      <td>步道</td>\n",
       "      <td>0.742038</td>\n",
       "      <td>飯店</td>\n",
       "      <td>0.717013</td>\n",
       "      <td>房間</td>\n",
       "      <td>0.732990</td>\n",
       "      <td>公園</td>\n",
       "      <td>0.422715</td>\n",
       "    </tr>\n",
       "    <tr>\n",
       "      <th>4</th>\n",
       "      <td>diy</td>\n",
       "      <td>0.598142</td>\n",
       "      <td>喜歡</td>\n",
       "      <td>0.697841</td>\n",
       "      <td>飯店</td>\n",
       "      <td>0.689467</td>\n",
       "      <td>喜歡</td>\n",
       "      <td>0.738174</td>\n",
       "      <td>設施</td>\n",
       "      <td>0.712790</td>\n",
       "      <td>喜歡</td>\n",
       "      <td>0.714674</td>\n",
       "      <td>diy</td>\n",
       "      <td>0.419838</td>\n",
       "    </tr>\n",
       "    <tr>\n",
       "      <th>5</th>\n",
       "      <td>秘境</td>\n",
       "      <td>0.589898</td>\n",
       "      <td>體驗</td>\n",
       "      <td>0.685985</td>\n",
       "      <td>喜歡</td>\n",
       "      <td>0.689136</td>\n",
       "      <td>餐廳</td>\n",
       "      <td>0.736548</td>\n",
       "      <td>體驗</td>\n",
       "      <td>0.712573</td>\n",
       "      <td>餐廳</td>\n",
       "      <td>0.713339</td>\n",
       "      <td>賞花</td>\n",
       "      <td>0.416683</td>\n",
       "    </tr>\n",
       "    <tr>\n",
       "      <th>6</th>\n",
       "      <td>感覺</td>\n",
       "      <td>0.581717</td>\n",
       "      <td>賞花</td>\n",
       "      <td>0.684113</td>\n",
       "      <td>入住</td>\n",
       "      <td>0.688856</td>\n",
       "      <td>感覺</td>\n",
       "      <td>0.734680</td>\n",
       "      <td>步道</td>\n",
       "      <td>0.711689</td>\n",
       "      <td>民宿</td>\n",
       "      <td>0.711689</td>\n",
       "      <td>民宿</td>\n",
       "      <td>0.416543</td>\n",
       "    </tr>\n",
       "    <tr>\n",
       "      <th>7</th>\n",
       "      <td>參觀</td>\n",
       "      <td>0.578503</td>\n",
       "      <td>民宿</td>\n",
       "      <td>0.683397</td>\n",
       "      <td>餐廳</td>\n",
       "      <td>0.686794</td>\n",
       "      <td>免費</td>\n",
       "      <td>0.727957</td>\n",
       "      <td>喜歡</td>\n",
       "      <td>0.700955</td>\n",
       "      <td>體驗</td>\n",
       "      <td>0.701031</td>\n",
       "      <td>藝術</td>\n",
       "      <td>0.411484</td>\n",
       "    </tr>\n",
       "    <tr>\n",
       "      <th>8</th>\n",
       "      <td>口感</td>\n",
       "      <td>0.574654</td>\n",
       "      <td>美食</td>\n",
       "      <td>0.677411</td>\n",
       "      <td>體驗</td>\n",
       "      <td>0.678083</td>\n",
       "      <td>參觀</td>\n",
       "      <td>0.724719</td>\n",
       "      <td>園區</td>\n",
       "      <td>0.685909</td>\n",
       "      <td>diy</td>\n",
       "      <td>0.700090</td>\n",
       "      <td>觀光工廠</td>\n",
       "      <td>0.409977</td>\n",
       "    </tr>\n",
       "    <tr>\n",
       "      <th>9</th>\n",
       "      <td>入住</td>\n",
       "      <td>0.571422</td>\n",
       "      <td>diy</td>\n",
       "      <td>0.676630</td>\n",
       "      <td>親子</td>\n",
       "      <td>0.669407</td>\n",
       "      <td>入住</td>\n",
       "      <td>0.718494</td>\n",
       "      <td>溜滑梯</td>\n",
       "      <td>0.683397</td>\n",
       "      <td>感覺</td>\n",
       "      <td>0.699552</td>\n",
       "      <td>步道</td>\n",
       "      <td>0.404663</td>\n",
       "    </tr>\n",
       "  </tbody>\n",
       "</table>\n",
       "</div>"
      ],
      "text/plain": [
       "    櫻花       cos  溜滑梯       cos  門票       cos   飯店       cos   民宿       cos  \\\n",
       "0   體驗  0.608565   飯店  0.759139  活動  0.701211  溜滑梯  0.759139   房間  0.731666   \n",
       "1   飯店  0.605470   餐廳  0.729688  房間  0.701100   體驗  0.748625   參觀  0.722958   \n",
       "2   民宿  0.599264   房間  0.714571  打卡  0.694466   房間  0.743905   感覺  0.718320   \n",
       "3   房間  0.598699   免費  0.710693  步道  0.692031   步道  0.742038   飯店  0.717013   \n",
       "4  diy  0.598142   喜歡  0.697841  飯店  0.689467   喜歡  0.738174   設施  0.712790   \n",
       "5   秘境  0.589898   體驗  0.685985  喜歡  0.689136   餐廳  0.736548   體驗  0.712573   \n",
       "6   感覺  0.581717   賞花  0.684113  入住  0.688856   感覺  0.734680   步道  0.711689   \n",
       "7   參觀  0.578503   民宿  0.683397  餐廳  0.686794   免費  0.727957   喜歡  0.700955   \n",
       "8   口感  0.574654   美食  0.677411  體驗  0.678083   參觀  0.724719   園區  0.685909   \n",
       "9   入住  0.571422  diy  0.676630  親子  0.669407   入住  0.718494  溜滑梯  0.683397   \n",
       "\n",
       "    步道       cos    芒果       cos  \n",
       "0   入住  0.748033   溜滑梯  0.446308  \n",
       "1   飯店  0.742038    感覺  0.436269  \n",
       "2   打卡  0.738534    適合  0.430391  \n",
       "3   房間  0.732990    公園  0.422715  \n",
       "4   喜歡  0.714674   diy  0.419838  \n",
       "5   餐廳  0.713339    賞花  0.416683  \n",
       "6   民宿  0.711689    民宿  0.416543  \n",
       "7   體驗  0.701031    藝術  0.411484  \n",
       "8  diy  0.700090  觀光工廠  0.409977  \n",
       "9   感覺  0.699552    步道  0.404663  "
      ]
     },
     "execution_count": 26,
     "metadata": {},
     "output_type": "execute_result"
    }
   ],
   "source": [
    "most_similar(model, [\"櫻花\", \"溜滑梯\", \"門票\", \"飯店\", \"民宿\", \"步道\", \"芒果\"])"
   ]
  },
  {
   "cell_type": "code",
   "execution_count": 27,
   "metadata": {},
   "outputs": [],
   "source": [
    "dict_df_classified = df.where(df.notnull(), None).to_dict()\n",
    "with open(\"preprocessed_data.json\", \"w\") as f:\n",
    "    json.dump(dict_df_classified, f, indent=2, ensure_ascii=False)"
   ]
  },
  {
   "cell_type": "code",
   "execution_count": 28,
   "metadata": {},
   "outputs": [],
   "source": [
    "model.save(\"word2vec.model\")"
   ]
  }
 ],
 "metadata": {
  "kernelspec": {
   "display_name": "Python 3",
   "language": "python",
   "name": "python3"
  },
  "language_info": {
   "codemirror_mode": {
    "name": "ipython",
    "version": 3
   },
   "file_extension": ".py",
   "mimetype": "text/x-python",
   "name": "python",
   "nbconvert_exporter": "python",
   "pygments_lexer": "ipython3",
   "version": "3.7.1"
  }
 },
 "nbformat": 4,
 "nbformat_minor": 4
}
