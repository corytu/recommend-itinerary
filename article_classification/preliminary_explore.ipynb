{
 "cells": [
  {
   "cell_type": "code",
   "execution_count": 1,
   "metadata": {},
   "outputs": [],
   "source": [
    "import json\n",
    "import re\n",
    "\n",
    "import pandas as pd\n",
    "from gensim.models.word2vec import Word2Vec"
   ]
  },
  {
   "cell_type": "code",
   "execution_count": 2,
   "metadata": {},
   "outputs": [],
   "source": [
    "df = pd.read_csv(\"classification_articles.csv\")"
   ]
  },
  {
   "cell_type": "markdown",
   "metadata": {},
   "source": [
    "# Data preprocessing"
   ]
  },
  {
   "cell_type": "code",
   "execution_count": 3,
   "metadata": {},
   "outputs": [],
   "source": [
    "# https://stackoverflow.com/questions/17796446/convert-a-list-to-a-string-and-back\n",
    "df[\"sentences\"] = df[\"sentences\"].apply(lambda s: eval(s))\n",
    "df[\"keyword_top10\"] = df[\"keyword_top10\"].apply(lambda s: eval(s))\n",
    "df[\"locations\"] = df[\"locations\"].apply(lambda s: eval(s))\n",
    "df[\"entity_address\"] = df[\"entity_address\"].apply(lambda s: eval(s))"
   ]
  },
  {
   "cell_type": "code",
   "execution_count": 4,
   "metadata": {},
   "outputs": [],
   "source": [
    "df_classified = df.loc[~df[\"self_defined_category\"].isna()]"
   ]
  },
  {
   "cell_type": "code",
   "execution_count": 5,
   "metadata": {},
   "outputs": [
    {
     "name": "stdout",
     "output_type": "stream",
     "text": [
      "# of total rows: 859\n"
     ]
    }
   ],
   "source": [
    "print(f\"# of total rows: {df.shape[0]}\")"
   ]
  },
  {
   "cell_type": "code",
   "execution_count": 6,
   "metadata": {},
   "outputs": [
    {
     "name": "stdout",
     "output_type": "stream",
     "text": [
      "# of rows with pre-defined category: 194\n"
     ]
    }
   ],
   "source": [
    "print(f\"# of rows with pre-defined category: {df_classified.shape[0]}\")"
   ]
  },
  {
   "cell_type": "markdown",
   "metadata": {},
   "source": [
    "# Explore categories and keywords"
   ]
  },
  {
   "cell_type": "code",
   "execution_count": 7,
   "metadata": {},
   "outputs": [
    {
     "data": {
      "text/plain": [
       "其它      78\n",
       "自然景觀    47\n",
       "人文藝術    37\n",
       "娛樂購物    32\n",
       "Name: self_defined_category, dtype: int64"
      ]
     },
     "execution_count": 7,
     "metadata": {},
     "output_type": "execute_result"
    }
   ],
   "source": [
    "df_classified[\"self_defined_category\"].value_counts()"
   ]
  },
  {
   "cell_type": "code",
   "execution_count": 8,
   "metadata": {},
   "outputs": [],
   "source": [
    "other_sentences = []\n",
    "for l in df_classified.loc[df_classified[\"self_defined_category\"] == \"其它\", \"sentences\"]:\n",
    "    other_sentences.extend(l)"
   ]
  },
  {
   "cell_type": "code",
   "execution_count": 9,
   "metadata": {},
   "outputs": [
    {
     "data": {
      "text/plain": [
       "飯店    13\n",
       "房間    12\n",
       "空間    11\n",
       "推薦    10\n",
       "景點    10\n",
       "住宿     9\n",
       "台中     8\n",
       "美食     8\n",
       "設施     7\n",
       "早餐     7\n",
       "dtype: int64"
      ]
     },
     "execution_count": 9,
     "metadata": {},
     "output_type": "execute_result"
    }
   ],
   "source": [
    "series_other = pd.Series(other_sentences)\n",
    "series_other.value_counts().head(10)"
   ]
  },
  {
   "cell_type": "code",
   "execution_count": 10,
   "metadata": {},
   "outputs": [],
   "source": [
    "# series_other.value_counts()[series_other.value_counts() > 1]"
   ]
  },
  {
   "cell_type": "code",
   "execution_count": 11,
   "metadata": {},
   "outputs": [],
   "source": [
    "nature_sentences = []\n",
    "for l in df_classified.loc[df_classified[\"self_defined_category\"] == \"自然景觀\", \"sentences\"]:\n",
    "    nature_sentences.extend(l)"
   ]
  },
  {
   "cell_type": "code",
   "execution_count": 12,
   "metadata": {},
   "outputs": [
    {
     "data": {
      "text/plain": [
       "景點        15\n",
       "櫻花        10\n",
       "2019       9\n",
       "露營         8\n",
       "步道         7\n",
       "花況         6\n",
       "js         6\n",
       "push       5\n",
       "window     5\n",
       "賞花         5\n",
       "dtype: int64"
      ]
     },
     "execution_count": 12,
     "metadata": {},
     "output_type": "execute_result"
    }
   ],
   "source": [
    "series_nature = pd.Series(nature_sentences)\n",
    "series_nature.value_counts().head(10)"
   ]
  },
  {
   "cell_type": "code",
   "execution_count": 13,
   "metadata": {},
   "outputs": [],
   "source": [
    "# series_nature.value_counts()[series_nature.value_counts() > 1]"
   ]
  },
  {
   "cell_type": "code",
   "execution_count": 14,
   "metadata": {},
   "outputs": [],
   "source": [
    "art_sentences = []\n",
    "for l in df_classified.loc[df_classified[\"self_defined_category\"] == \"人文藝術\", \"sentences\"]:\n",
    "    art_sentences.extend(l)"
   ]
  },
  {
   "cell_type": "code",
   "execution_count": 15,
   "metadata": {},
   "outputs": [
    {
     "data": {
      "text/plain": [
       "景點     11\n",
       "宜蘭      5\n",
       "台灣      5\n",
       "園區      5\n",
       "體驗      4\n",
       "ig      4\n",
       "小朋友     4\n",
       "建築      4\n",
       "空間      4\n",
       "打卡      4\n",
       "dtype: int64"
      ]
     },
     "execution_count": 15,
     "metadata": {},
     "output_type": "execute_result"
    }
   ],
   "source": [
    "series_art = pd.Series(art_sentences)\n",
    "series_art.value_counts().head(10)"
   ]
  },
  {
   "cell_type": "code",
   "execution_count": 16,
   "metadata": {},
   "outputs": [],
   "source": [
    "# series_art.value_counts()[series_art.value_counts() > 1]"
   ]
  },
  {
   "cell_type": "code",
   "execution_count": 17,
   "metadata": {},
   "outputs": [],
   "source": [
    "shop_sentences = []\n",
    "for l in df_classified.loc[df_classified[\"self_defined_category\"] == \"娛樂購物\", \"sentences\"]:\n",
    "    shop_sentences.extend(l)"
   ]
  },
  {
   "cell_type": "code",
   "execution_count": 18,
   "metadata": {},
   "outputs": [
    {
     "data": {
      "text/plain": [
       "小朋友    6\n",
       "溜滑梯    5\n",
       "公園     4\n",
       "js     4\n",
       "中壢     3\n",
       "diy    3\n",
       "台中     3\n",
       "小米     3\n",
       "台南     3\n",
       "打卡     3\n",
       "dtype: int64"
      ]
     },
     "execution_count": 18,
     "metadata": {},
     "output_type": "execute_result"
    }
   ],
   "source": [
    "series_shop = pd.Series(shop_sentences)\n",
    "series_shop.value_counts().head(10)"
   ]
  },
  {
   "cell_type": "code",
   "execution_count": 19,
   "metadata": {},
   "outputs": [],
   "source": [
    "# series_shop.value_counts()[series_shop.value_counts() > 1]"
   ]
  },
  {
   "cell_type": "code",
   "execution_count": 20,
   "metadata": {},
   "outputs": [
    {
     "data": {
      "text/plain": [
       "景點        3\n",
       "台中        2\n",
       "js        2\n",
       "空間        2\n",
       "打卡        2\n",
       "小朋友       2\n",
       "公園        1\n",
       "設施        1\n",
       "美食        1\n",
       "步道        1\n",
       "建築        1\n",
       "push      1\n",
       "賞花        1\n",
       "園區        1\n",
       "ig        1\n",
       "推薦        1\n",
       "diy       1\n",
       "早餐        1\n",
       "飯店        1\n",
       "台南        1\n",
       "2019      1\n",
       "露營        1\n",
       "小米        1\n",
       "房間        1\n",
       "中壢        1\n",
       "宜蘭        1\n",
       "花況        1\n",
       "櫻花        1\n",
       "體驗        1\n",
       "住宿        1\n",
       "溜滑梯       1\n",
       "台灣        1\n",
       "window    1\n",
       "dtype: int64"
      ]
     },
     "execution_count": 20,
     "metadata": {},
     "output_type": "execute_result"
    }
   ],
   "source": [
    "# Find intersections of top-10-common keywords accross categories\n",
    "# (to be excluded in following predictions)\n",
    "series_common = (\n",
    "    series_other.value_counts().head(10).index\n",
    "        .append(series_art.value_counts().head(10).index)\n",
    "        .append(series_nature.value_counts().head(10).index)\n",
    "        .append(series_shop.value_counts().head(10).index)\n",
    ")\n",
    "series_common.value_counts()"
   ]
  },
  {
   "cell_type": "code",
   "execution_count": 21,
   "metadata": {},
   "outputs": [
    {
     "data": {
      "text/plain": [
       "['景點', '台中', 'js', '空間', '打卡', '小朋友']"
      ]
     },
     "execution_count": 21,
     "metadata": {},
     "output_type": "execute_result"
    }
   ],
   "source": [
    "list_excluding_keywords = series_common.value_counts()[series_common.value_counts() > 1].index.tolist()\n",
    "list_excluding_keywords"
   ]
  },
  {
   "cell_type": "code",
   "execution_count": 22,
   "metadata": {},
   "outputs": [
    {
     "data": {
      "text/plain": [
       "['苗栗市',\n",
       " '冬山',\n",
       " '台北車站',\n",
       " '青埔',\n",
       " '彩虹',\n",
       " '苗栗',\n",
       " '宜蘭伯朗大道',\n",
       " '文物館',\n",
       " '自由天地民宿',\n",
       " '樹谷農場',\n",
       " '拉拉山恩愛農場',\n",
       " '屏東',\n",
       " '青森',\n",
       " '大雅',\n",
       " '武陵農場',\n",
       " '冬山鄉',\n",
       " '東大門夜市',\n",
       " '泰安',\n",
       " '南京三民站',\n",
       " '童話世界',\n",
       " '中壢',\n",
       " '花蓮',\n",
       " '來了',\n",
       " '東海岸',\n",
       " '總爺藝文中心',\n",
       " '新竹火車站',\n",
       " '綠園道',\n",
       " '勤美綠園道',\n",
       " '西區',\n",
       " '亞洲',\n",
       " '青草湖',\n",
       " '卓蘭',\n",
       " '大甲溪',\n",
       " '紅樹林站',\n",
       " '礁溪',\n",
       " '芭蕾城市渡假旅店',\n",
       " '竹北',\n",
       " '東勢',\n",
       " '松山區',\n",
       " '太平洋',\n",
       " '環保公園',\n",
       " '澎湖跨海大橋',\n",
       " '頭城',\n",
       " '松山',\n",
       " '壽豐',\n",
       " '白河',\n",
       " '西屯',\n",
       " '曼谷',\n",
       " '楠西',\n",
       " '台中',\n",
       " '月亮',\n",
       " '八卦山',\n",
       " '小北家',\n",
       " '黃金瀑布',\n",
       " '梅花',\n",
       " '南寮',\n",
       " '后里',\n",
       " '綠舞國際觀光飯店',\n",
       " '后里區',\n",
       " '亞太飯店',\n",
       " '新竹',\n",
       " '歐洲',\n",
       " '宜蘭',\n",
       " '村却國際溫泉酒店',\n",
       " '望龍埤',\n",
       " '大甲',\n",
       " '六龜區',\n",
       " '露營區',\n",
       " '玉井',\n",
       " '運動公園',\n",
       " '集集火車站',\n",
       " '板橋',\n",
       " '雲林',\n",
       " '大溪',\n",
       " '淡水',\n",
       " '東旅',\n",
       " '車路墘教會',\n",
       " '西螺',\n",
       " '逢甲夜市',\n",
       " '小琉球',\n",
       " '達邦',\n",
       " '勤美術館',\n",
       " '台中市',\n",
       " '臺中市眷村文物館',\n",
       " '秘密花園',\n",
       " '龍潭',\n",
       " '南屯',\n",
       " '功維敘隧道',\n",
       " '桃園',\n",
       " '眺望',\n",
       " '易家仙人掌冰',\n",
       " '東港',\n",
       " '美術館',\n",
       " '峇里島',\n",
       " '高雄',\n",
       " '花蓮理想<ModifierP>大地</ModifierP>渡假飯店',\n",
       " '在水一方',\n",
       " '華山文創園區',\n",
       " '七股',\n",
       " '美國',\n",
       " '赤崁璽樓民宿',\n",
       " '台灣穀堡',\n",
       " '復興區',\n",
       " '準園休閒農場',\n",
       " '三重',\n",
       " '谷關',\n",
       " '太平山森林遊樂區',\n",
       " '台南',\n",
       " '報告班長',\n",
       " '三峽',\n",
       " '東豐自行車綠廊',\n",
       " '禾風新棧度假飯店',\n",
       " '印度',\n",
       " '桃園國際棒球場',\n",
       " '南門',\n",
       " '馬來西亞',\n",
       " '草屯',\n",
       " '鯉魚潭',\n",
       " '台東',\n",
       " '華山',\n",
       " '台灣',\n",
       " '二崁聚落',\n",
       " '鹿場',\n",
       " '蜜餞形象館',\n",
       " '帳篷內',\n",
       " '銅鑼',\n",
       " '室內',\n",
       " '箱根',\n",
       " '陽明山',\n",
       " '蘆竹',\n",
       " '澎湖',\n",
       " '湖口',\n",
       " '菱潭街興創基地',\n",
       " '客家文物館',\n",
       " '吉園休閒農場',\n",
       " '新化',\n",
       " '大溪老街',\n",
       " '糖廠',\n",
       " '保安車站',\n",
       " '新北市',\n",
       " '國內',\n",
       " '北屯',\n",
       " '瑞春醬油',\n",
       " '大安',\n",
       " '鰲峰山運動公園',\n",
       " '泰國',\n",
       " '南投',\n",
       " '武德殿',\n",
       " '大陸',\n",
       " '月眉糖廠',\n",
       " '遠雄海洋公園',\n",
       " '中山',\n",
       " '花蓮港',\n",
       " '基隆',\n",
       " '台江國家公園遊客中心',\n",
       " '士林',\n",
       " '休閒農業區',\n",
       " '觀光夜市',\n",
       " '新北',\n",
       " '羅東',\n",
       " '烏來',\n",
       " '森林步道',\n",
       " '南方莊園渡假飯店',\n",
       " '嘉義',\n",
       " '員林',\n",
       " '海南',\n",
       " '南印度',\n",
       " '日本',\n",
       " '台北',\n",
       " '紅樓',\n",
       " '天元宮',\n",
       " '墾丁',\n",
       " '世界',\n",
       " '大湖',\n",
       " '恆春',\n",
       " '探索私旅',\n",
       " '圓林仔社區',\n",
       " '捷運忠孝復興站',\n",
       " '孔廟',\n",
       " '大安區',\n",
       " '巴黎',\n",
       " '陽明山天籟渡假酒店',\n",
       " '清水',\n",
       " '鳥人創意旅店',\n",
       " '新社',\n",
       " '武荖坑風景區',\n",
       " '太原',\n",
       " '水舞行館',\n",
       " '信義區',\n",
       " '展覽館',\n",
       " '南庄',\n",
       " '北投',\n",
       " '台灣滷味博物館',\n",
       " '麻豆',\n",
       " '彰化',\n",
       " '文化村']"
      ]
     },
     "execution_count": 22,
     "metadata": {},
     "output_type": "execute_result"
    }
   ],
   "source": [
    "# Keywords can't be locations either\n",
    "list_excluding_locations = [s for l in df_classified[\"locations\"] for s in l]\n",
    "list_excluding_locations = list(set(list_excluding_locations))\n",
    "list_excluding_locations"
   ]
  },
  {
   "cell_type": "code",
   "execution_count": 23,
   "metadata": {},
   "outputs": [],
   "source": [
    "df[\"processed_sentences\"] = df[\"sentences\"].apply(\n",
    "    lambda l: [\n",
    "        s for s in l\n",
    "        # Excluding common keywords\n",
    "        if s not in list_excluding_keywords and\n",
    "        # Excluding locations\n",
    "        s not in list_excluding_locations and\n",
    "        # Excluding pure digits\n",
    "        not re.match(r\"\\d+$\", s)\n",
    "    ]\n",
    ")"
   ]
  },
  {
   "cell_type": "markdown",
   "metadata": {},
   "source": [
    "# Word2Vec"
   ]
  },
  {
   "cell_type": "code",
   "execution_count": 24,
   "metadata": {},
   "outputs": [],
   "source": [
    "def most_similar(w2v_model, words, topn=10):\n",
    "    similar_df = pd.DataFrame()\n",
    "    for word in words:\n",
    "        try:\n",
    "            similar_words = pd.DataFrame(w2v_model.wv.most_similar(word, topn=topn), columns=[word, 'cos'])\n",
    "            similar_df = pd.concat([similar_df, similar_words], axis=1)\n",
    "        except KeyError:\n",
    "            print(word, \"not found in Word2Vec model!\")\n",
    "    return similar_df"
   ]
  },
  {
   "cell_type": "code",
   "execution_count": 25,
   "metadata": {},
   "outputs": [],
   "source": [
    "model = Word2Vec(df[\"processed_sentences\"], size=250, iter=10, min_count=2, sg=1, window=1)"
   ]
  },
  {
   "cell_type": "code",
   "execution_count": 26,
   "metadata": {},
   "outputs": [
    {
     "data": {
      "text/html": [
       "<div>\n",
       "<style scoped>\n",
       "    .dataframe tbody tr th:only-of-type {\n",
       "        vertical-align: middle;\n",
       "    }\n",
       "\n",
       "    .dataframe tbody tr th {\n",
       "        vertical-align: top;\n",
       "    }\n",
       "\n",
       "    .dataframe thead th {\n",
       "        text-align: right;\n",
       "    }\n",
       "</style>\n",
       "<table border=\"1\" class=\"dataframe\">\n",
       "  <thead>\n",
       "    <tr style=\"text-align: right;\">\n",
       "      <th></th>\n",
       "      <th>櫻花</th>\n",
       "      <th>cos</th>\n",
       "      <th>溜滑梯</th>\n",
       "      <th>cos</th>\n",
       "      <th>門票</th>\n",
       "      <th>cos</th>\n",
       "      <th>飯店</th>\n",
       "      <th>cos</th>\n",
       "      <th>民宿</th>\n",
       "      <th>cos</th>\n",
       "      <th>步道</th>\n",
       "      <th>cos</th>\n",
       "      <th>芒果</th>\n",
       "      <th>cos</th>\n",
       "    </tr>\n",
       "  </thead>\n",
       "  <tbody>\n",
       "    <tr>\n",
       "      <th>0</th>\n",
       "      <td>飯店</td>\n",
       "      <td>0.592804</td>\n",
       "      <td>體驗</td>\n",
       "      <td>0.568030</td>\n",
       "      <td>步道</td>\n",
       "      <td>0.552969</td>\n",
       "      <td>時間</td>\n",
       "      <td>0.646032</td>\n",
       "      <td>步道</td>\n",
       "      <td>0.533831</td>\n",
       "      <td>免費</td>\n",
       "      <td>0.659057</td>\n",
       "      <td>步道</td>\n",
       "      <td>0.415202</td>\n",
       "    </tr>\n",
       "    <tr>\n",
       "      <th>1</th>\n",
       "      <td>時間</td>\n",
       "      <td>0.528756</td>\n",
       "      <td>免費</td>\n",
       "      <td>0.566124</td>\n",
       "      <td>時間</td>\n",
       "      <td>0.546410</td>\n",
       "      <td>免費</td>\n",
       "      <td>0.622134</td>\n",
       "      <td>時間</td>\n",
       "      <td>0.533541</td>\n",
       "      <td>推薦</td>\n",
       "      <td>0.652054</td>\n",
       "      <td>飯店</td>\n",
       "      <td>0.396064</td>\n",
       "    </tr>\n",
       "    <tr>\n",
       "      <th>2</th>\n",
       "      <td>大廳</td>\n",
       "      <td>0.527727</td>\n",
       "      <td>園區</td>\n",
       "      <td>0.565376</td>\n",
       "      <td>欣賞</td>\n",
       "      <td>0.536126</td>\n",
       "      <td>體驗</td>\n",
       "      <td>0.599348</td>\n",
       "      <td>飯店</td>\n",
       "      <td>0.524914</td>\n",
       "      <td>時間</td>\n",
       "      <td>0.645037</td>\n",
       "      <td>參觀</td>\n",
       "      <td>0.393054</td>\n",
       "    </tr>\n",
       "    <tr>\n",
       "      <th>3</th>\n",
       "      <td>diy</td>\n",
       "      <td>0.526735</td>\n",
       "      <td>推薦</td>\n",
       "      <td>0.555808</td>\n",
       "      <td>園區</td>\n",
       "      <td>0.523721</td>\n",
       "      <td>推薦</td>\n",
       "      <td>0.597780</td>\n",
       "      <td>美食</td>\n",
       "      <td>0.523322</td>\n",
       "      <td>園區</td>\n",
       "      <td>0.627523</td>\n",
       "      <td>免費</td>\n",
       "      <td>0.380129</td>\n",
       "    </tr>\n",
       "    <tr>\n",
       "      <th>4</th>\n",
       "      <td>園區</td>\n",
       "      <td>0.526129</td>\n",
       "      <td>停車</td>\n",
       "      <td>0.543292</td>\n",
       "      <td>親子</td>\n",
       "      <td>0.515512</td>\n",
       "      <td>園區</td>\n",
       "      <td>0.593591</td>\n",
       "      <td>園區</td>\n",
       "      <td>0.512779</td>\n",
       "      <td>設施</td>\n",
       "      <td>0.626321</td>\n",
       "      <td>新鮮</td>\n",
       "      <td>0.377385</td>\n",
       "    </tr>\n",
       "    <tr>\n",
       "      <th>5</th>\n",
       "      <td>步道</td>\n",
       "      <td>0.525356</td>\n",
       "      <td>時間</td>\n",
       "      <td>0.532321</td>\n",
       "      <td>溜滑梯</td>\n",
       "      <td>0.515334</td>\n",
       "      <td>櫻花</td>\n",
       "      <td>0.592804</td>\n",
       "      <td>親子</td>\n",
       "      <td>0.509526</td>\n",
       "      <td>美食</td>\n",
       "      <td>0.620592</td>\n",
       "      <td>體驗</td>\n",
       "      <td>0.370449</td>\n",
       "    </tr>\n",
       "    <tr>\n",
       "      <th>6</th>\n",
       "      <td>推薦</td>\n",
       "      <td>0.514960</td>\n",
       "      <td>親子</td>\n",
       "      <td>0.522433</td>\n",
       "      <td>設計</td>\n",
       "      <td>0.514792</td>\n",
       "      <td>設計</td>\n",
       "      <td>0.592302</td>\n",
       "      <td>賞花</td>\n",
       "      <td>0.508686</td>\n",
       "      <td>參觀</td>\n",
       "      <td>0.605918</td>\n",
       "      <td>賞櫻</td>\n",
       "      <td>0.368937</td>\n",
       "    </tr>\n",
       "    <tr>\n",
       "      <th>7</th>\n",
       "      <td>喜歡</td>\n",
       "      <td>0.513004</td>\n",
       "      <td>建築</td>\n",
       "      <td>0.516311</td>\n",
       "      <td>體驗</td>\n",
       "      <td>0.513835</td>\n",
       "      <td>入住</td>\n",
       "      <td>0.591087</td>\n",
       "      <td>推薦</td>\n",
       "      <td>0.492652</td>\n",
       "      <td>diy</td>\n",
       "      <td>0.595345</td>\n",
       "      <td>美食</td>\n",
       "      <td>0.366169</td>\n",
       "    </tr>\n",
       "    <tr>\n",
       "      <th>8</th>\n",
       "      <td>設施</td>\n",
       "      <td>0.504499</td>\n",
       "      <td>門票</td>\n",
       "      <td>0.515334</td>\n",
       "      <td>參觀</td>\n",
       "      <td>0.506796</td>\n",
       "      <td>步道</td>\n",
       "      <td>0.579177</td>\n",
       "      <td>住宿</td>\n",
       "      <td>0.492622</td>\n",
       "      <td>設計</td>\n",
       "      <td>0.590093</td>\n",
       "      <td>推薦</td>\n",
       "      <td>0.365036</td>\n",
       "    </tr>\n",
       "    <tr>\n",
       "      <th>9</th>\n",
       "      <td>參觀</td>\n",
       "      <td>0.502718</td>\n",
       "      <td>喜歡</td>\n",
       "      <td>0.515169</td>\n",
       "      <td>id</td>\n",
       "      <td>0.505257</td>\n",
       "      <td>露營</td>\n",
       "      <td>0.576477</td>\n",
       "      <td>diy</td>\n",
       "      <td>0.485238</td>\n",
       "      <td>親子</td>\n",
       "      <td>0.590083</td>\n",
       "      <td>cafe</td>\n",
       "      <td>0.364047</td>\n",
       "    </tr>\n",
       "  </tbody>\n",
       "</table>\n",
       "</div>"
      ],
      "text/plain": [
       "    櫻花       cos 溜滑梯       cos   門票       cos  飯店       cos   民宿       cos  \\\n",
       "0   飯店  0.592804  體驗  0.568030   步道  0.552969  時間  0.646032   步道  0.533831   \n",
       "1   時間  0.528756  免費  0.566124   時間  0.546410  免費  0.622134   時間  0.533541   \n",
       "2   大廳  0.527727  園區  0.565376   欣賞  0.536126  體驗  0.599348   飯店  0.524914   \n",
       "3  diy  0.526735  推薦  0.555808   園區  0.523721  推薦  0.597780   美食  0.523322   \n",
       "4   園區  0.526129  停車  0.543292   親子  0.515512  園區  0.593591   園區  0.512779   \n",
       "5   步道  0.525356  時間  0.532321  溜滑梯  0.515334  櫻花  0.592804   親子  0.509526   \n",
       "6   推薦  0.514960  親子  0.522433   設計  0.514792  設計  0.592302   賞花  0.508686   \n",
       "7   喜歡  0.513004  建築  0.516311   體驗  0.513835  入住  0.591087   推薦  0.492652   \n",
       "8   設施  0.504499  門票  0.515334   參觀  0.506796  步道  0.579177   住宿  0.492622   \n",
       "9   參觀  0.502718  喜歡  0.515169   id  0.505257  露營  0.576477  diy  0.485238   \n",
       "\n",
       "    步道       cos    芒果       cos  \n",
       "0   免費  0.659057    步道  0.415202  \n",
       "1   推薦  0.652054    飯店  0.396064  \n",
       "2   時間  0.645037    參觀  0.393054  \n",
       "3   園區  0.627523    免費  0.380129  \n",
       "4   設施  0.626321    新鮮  0.377385  \n",
       "5   美食  0.620592    體驗  0.370449  \n",
       "6   參觀  0.605918    賞櫻  0.368937  \n",
       "7  diy  0.595345    美食  0.366169  \n",
       "8   設計  0.590093    推薦  0.365036  \n",
       "9   親子  0.590083  cafe  0.364047  "
      ]
     },
     "execution_count": 26,
     "metadata": {},
     "output_type": "execute_result"
    }
   ],
   "source": [
    "most_similar(model, [\"櫻花\", \"溜滑梯\", \"門票\", \"飯店\", \"民宿\", \"步道\", \"芒果\"])"
   ]
  },
  {
   "cell_type": "code",
   "execution_count": 27,
   "metadata": {},
   "outputs": [],
   "source": [
    "dict_df_classified = df.where(df.notnull(), None).to_dict()\n",
    "with open(\"preprocessed_data.json\", \"w\") as f:\n",
    "    json.dump(dict_df_classified, f, indent=2, ensure_ascii=False)"
   ]
  },
  {
   "cell_type": "code",
   "execution_count": 28,
   "metadata": {},
   "outputs": [],
   "source": [
    "model.save(\"word2vec.model\")"
   ]
  }
 ],
 "metadata": {
  "kernelspec": {
   "display_name": "Python 3",
   "language": "python",
   "name": "python3"
  },
  "language_info": {
   "codemirror_mode": {
    "name": "ipython",
    "version": 3
   },
   "file_extension": ".py",
   "mimetype": "text/x-python",
   "name": "python",
   "nbconvert_exporter": "python",
   "pygments_lexer": "ipython3",
   "version": "3.7.3"
  }
 },
 "nbformat": 4,
 "nbformat_minor": 4
}
