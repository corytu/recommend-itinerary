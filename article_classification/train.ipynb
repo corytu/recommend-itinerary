{
 "cells": [
  {
   "cell_type": "code",
   "execution_count": 1,
   "metadata": {},
   "outputs": [],
   "source": [
    "import pandas as pd\n",
    "import numpy as np\n",
    "from gensim.models.word2vec import Word2Vec\n",
    "from xgboost import XGBClassifier\n",
    "from sklearn.utils import class_weight\n",
    "from sklearn.ensemble import RandomForestClassifier"
   ]
  },
  {
   "cell_type": "code",
   "execution_count": 2,
   "metadata": {},
   "outputs": [],
   "source": [
    "wv_model = Word2Vec.load(\"word2vec.model\")"
   ]
  },
  {
   "cell_type": "code",
   "execution_count": 3,
   "metadata": {},
   "outputs": [],
   "source": [
    "df_classified = pd.read_json(\"preprocessed_data.json\")"
   ]
  },
  {
   "cell_type": "markdown",
   "metadata": {},
   "source": [
    "# Training"
   ]
  },
  {
   "cell_type": "markdown",
   "metadata": {},
   "source": [
    "## Data spliting"
   ]
  },
  {
   "cell_type": "code",
   "execution_count": 4,
   "metadata": {},
   "outputs": [],
   "source": [
    "df_classified[\"is_train\"] = False"
   ]
  },
  {
   "cell_type": "code",
   "execution_count": 5,
   "metadata": {},
   "outputs": [],
   "source": [
    "df_classified.loc[df_classified.sample(frac=0.75, random_state=1314).index, \"is_train\"] = True"
   ]
  },
  {
   "cell_type": "code",
   "execution_count": 6,
   "metadata": {},
   "outputs": [
    {
     "name": "stderr",
     "output_type": "stream",
     "text": [
      "/Library/Frameworks/Python.framework/Versions/3.7/lib/python3.7/site-packages/ipykernel_launcher.py:11: DeprecationWarning: Call to deprecated `__getitem__` (Method will be removed in 4.0.0, use self.wv.__getitem__() instead).\n",
      "  # This is added back by InteractiveShellApp.init_path()\n"
     ]
    }
   ],
   "source": [
    "word_vectors = []\n",
    "self_defined_categories = []\n",
    "tf_idfs = []\n",
    "urls = []\n",
    "is_trains = []\n",
    "for row in df_classified.itertuples(index=False):\n",
    "    for keyword in row.keyword_top10:\n",
    "        word = keyword[\"word\"]\n",
    "        tf_idf = keyword[\"tfidf\"]\n",
    "        try:\n",
    "            word_vectors.append(wv_model[word])\n",
    "        except KeyError:\n",
    "            continue\n",
    "        tf_idfs.append(tf_idf)\n",
    "        self_defined_categories.append(row.self_defined_category)\n",
    "        urls.append(row.url)\n",
    "        is_trains.append(row.is_train)"
   ]
  },
  {
   "cell_type": "code",
   "execution_count": 7,
   "metadata": {},
   "outputs": [],
   "source": [
    "df_word_vectors = pd.DataFrame(np.vstack(word_vectors))\n",
    "df_word_vectors.columns = [f\"wv_d{i}\" for i in range(1, 251)]\n",
    "df_category = pd.DataFrame(self_defined_categories).rename(columns={0: \"self_defined_category\"})\n",
    "df_tf_idf = pd.DataFrame(tf_idfs).rename(columns={0: \"tf_idf\"})\n",
    "df_url = pd.DataFrame(urls).rename(columns={0: \"url\"})\n",
    "df_is_train = pd.DataFrame(is_trains).rename(columns={0: \"is_train\"})"
   ]
  },
  {
   "cell_type": "code",
   "execution_count": 8,
   "metadata": {},
   "outputs": [],
   "source": [
    "data = pd.concat([df_url, df_is_train, df_word_vectors, df_tf_idf, df_category], axis=1)"
   ]
  },
  {
   "cell_type": "code",
   "execution_count": 9,
   "metadata": {},
   "outputs": [
    {
     "data": {
      "text/plain": [
       "(767, 254)"
      ]
     },
     "execution_count": 9,
     "metadata": {},
     "output_type": "execute_result"
    }
   ],
   "source": [
    "data.shape"
   ]
  },
  {
   "cell_type": "code",
   "execution_count": 10,
   "metadata": {},
   "outputs": [
    {
     "data": {
      "text/plain": [
       "True     0.752282\n",
       "False    0.247718\n",
       "Name: is_train, dtype: float64"
      ]
     },
     "execution_count": 10,
     "metadata": {},
     "output_type": "execute_result"
    }
   ],
   "source": [
    "data[\"is_train\"].value_counts(normalize=True)"
   ]
  },
  {
   "cell_type": "code",
   "execution_count": 11,
   "metadata": {},
   "outputs": [
    {
     "data": {
      "text/html": [
       "<div>\n",
       "<style scoped>\n",
       "    .dataframe tbody tr th:only-of-type {\n",
       "        vertical-align: middle;\n",
       "    }\n",
       "\n",
       "    .dataframe tbody tr th {\n",
       "        vertical-align: top;\n",
       "    }\n",
       "\n",
       "    .dataframe thead th {\n",
       "        text-align: right;\n",
       "    }\n",
       "</style>\n",
       "<table border=\"1\" class=\"dataframe\">\n",
       "  <thead>\n",
       "    <tr style=\"text-align: right;\">\n",
       "      <th></th>\n",
       "      <th>url</th>\n",
       "      <th>is_train</th>\n",
       "      <th>wv_d1</th>\n",
       "      <th>wv_d2</th>\n",
       "      <th>wv_d3</th>\n",
       "      <th>wv_d4</th>\n",
       "      <th>wv_d5</th>\n",
       "      <th>wv_d6</th>\n",
       "      <th>wv_d7</th>\n",
       "      <th>wv_d8</th>\n",
       "      <th>...</th>\n",
       "      <th>wv_d243</th>\n",
       "      <th>wv_d244</th>\n",
       "      <th>wv_d245</th>\n",
       "      <th>wv_d246</th>\n",
       "      <th>wv_d247</th>\n",
       "      <th>wv_d248</th>\n",
       "      <th>wv_d249</th>\n",
       "      <th>wv_d250</th>\n",
       "      <th>tf_idf</th>\n",
       "      <th>self_defined_category</th>\n",
       "    </tr>\n",
       "  </thead>\n",
       "  <tbody>\n",
       "    <tr>\n",
       "      <th>0</th>\n",
       "      <td>http://eeooa0314.pixnet.net/blog/post/467928992</td>\n",
       "      <td>False</td>\n",
       "      <td>0.000021</td>\n",
       "      <td>-0.001240</td>\n",
       "      <td>0.000746</td>\n",
       "      <td>-0.001771</td>\n",
       "      <td>-0.002084</td>\n",
       "      <td>-0.001445</td>\n",
       "      <td>-0.000410</td>\n",
       "      <td>-0.000017</td>\n",
       "      <td>...</td>\n",
       "      <td>0.001587</td>\n",
       "      <td>0.000647</td>\n",
       "      <td>-0.001405</td>\n",
       "      <td>0.001298</td>\n",
       "      <td>-0.001555</td>\n",
       "      <td>-0.001051</td>\n",
       "      <td>-0.001307</td>\n",
       "      <td>-0.002019</td>\n",
       "      <td>0.45687</td>\n",
       "      <td>自然景觀</td>\n",
       "    </tr>\n",
       "    <tr>\n",
       "      <th>1</th>\n",
       "      <td>http://eeooa0314.pixnet.net/blog/post/467928992</td>\n",
       "      <td>False</td>\n",
       "      <td>-0.000392</td>\n",
       "      <td>0.000917</td>\n",
       "      <td>0.000980</td>\n",
       "      <td>0.001810</td>\n",
       "      <td>-0.001391</td>\n",
       "      <td>0.001822</td>\n",
       "      <td>0.000277</td>\n",
       "      <td>-0.000249</td>\n",
       "      <td>...</td>\n",
       "      <td>-0.001401</td>\n",
       "      <td>-0.001841</td>\n",
       "      <td>0.001158</td>\n",
       "      <td>-0.001348</td>\n",
       "      <td>0.001518</td>\n",
       "      <td>0.000087</td>\n",
       "      <td>-0.001332</td>\n",
       "      <td>0.000606</td>\n",
       "      <td>0.23000</td>\n",
       "      <td>自然景觀</td>\n",
       "    </tr>\n",
       "    <tr>\n",
       "      <th>2</th>\n",
       "      <td>http://eeooa0314.pixnet.net/blog/post/467928992</td>\n",
       "      <td>False</td>\n",
       "      <td>-0.000874</td>\n",
       "      <td>0.001359</td>\n",
       "      <td>-0.001309</td>\n",
       "      <td>0.001554</td>\n",
       "      <td>0.001796</td>\n",
       "      <td>0.000561</td>\n",
       "      <td>-0.001838</td>\n",
       "      <td>-0.001457</td>\n",
       "      <td>...</td>\n",
       "      <td>0.001091</td>\n",
       "      <td>-0.001509</td>\n",
       "      <td>0.000992</td>\n",
       "      <td>-0.000271</td>\n",
       "      <td>0.001211</td>\n",
       "      <td>0.001454</td>\n",
       "      <td>0.000701</td>\n",
       "      <td>-0.001060</td>\n",
       "      <td>0.15229</td>\n",
       "      <td>自然景觀</td>\n",
       "    </tr>\n",
       "    <tr>\n",
       "      <th>3</th>\n",
       "      <td>http://eeooa0314.pixnet.net/blog/post/467928992</td>\n",
       "      <td>False</td>\n",
       "      <td>0.001090</td>\n",
       "      <td>0.001718</td>\n",
       "      <td>-0.001174</td>\n",
       "      <td>-0.001035</td>\n",
       "      <td>0.000063</td>\n",
       "      <td>-0.000486</td>\n",
       "      <td>0.000296</td>\n",
       "      <td>0.001924</td>\n",
       "      <td>...</td>\n",
       "      <td>-0.000965</td>\n",
       "      <td>-0.001425</td>\n",
       "      <td>-0.000254</td>\n",
       "      <td>-0.001294</td>\n",
       "      <td>-0.000275</td>\n",
       "      <td>-0.001468</td>\n",
       "      <td>0.000681</td>\n",
       "      <td>0.000681</td>\n",
       "      <td>0.15229</td>\n",
       "      <td>自然景觀</td>\n",
       "    </tr>\n",
       "    <tr>\n",
       "      <th>4</th>\n",
       "      <td>http://eeooa0314.pixnet.net/blog/post/467899943</td>\n",
       "      <td>True</td>\n",
       "      <td>-0.000440</td>\n",
       "      <td>-0.000310</td>\n",
       "      <td>-0.000325</td>\n",
       "      <td>0.001261</td>\n",
       "      <td>-0.000511</td>\n",
       "      <td>-0.000963</td>\n",
       "      <td>-0.000076</td>\n",
       "      <td>0.001341</td>\n",
       "      <td>...</td>\n",
       "      <td>-0.001914</td>\n",
       "      <td>0.001483</td>\n",
       "      <td>-0.001376</td>\n",
       "      <td>0.000637</td>\n",
       "      <td>-0.000329</td>\n",
       "      <td>-0.001772</td>\n",
       "      <td>-0.000597</td>\n",
       "      <td>-0.001965</td>\n",
       "      <td>0.34459</td>\n",
       "      <td>人文藝術</td>\n",
       "    </tr>\n",
       "  </tbody>\n",
       "</table>\n",
       "<p>5 rows × 254 columns</p>\n",
       "</div>"
      ],
      "text/plain": [
       "                                               url  is_train     wv_d1  \\\n",
       "0  http://eeooa0314.pixnet.net/blog/post/467928992     False  0.000021   \n",
       "1  http://eeooa0314.pixnet.net/blog/post/467928992     False -0.000392   \n",
       "2  http://eeooa0314.pixnet.net/blog/post/467928992     False -0.000874   \n",
       "3  http://eeooa0314.pixnet.net/blog/post/467928992     False  0.001090   \n",
       "4  http://eeooa0314.pixnet.net/blog/post/467899943      True -0.000440   \n",
       "\n",
       "      wv_d2     wv_d3     wv_d4     wv_d5     wv_d6     wv_d7     wv_d8  ...  \\\n",
       "0 -0.001240  0.000746 -0.001771 -0.002084 -0.001445 -0.000410 -0.000017  ...   \n",
       "1  0.000917  0.000980  0.001810 -0.001391  0.001822  0.000277 -0.000249  ...   \n",
       "2  0.001359 -0.001309  0.001554  0.001796  0.000561 -0.001838 -0.001457  ...   \n",
       "3  0.001718 -0.001174 -0.001035  0.000063 -0.000486  0.000296  0.001924  ...   \n",
       "4 -0.000310 -0.000325  0.001261 -0.000511 -0.000963 -0.000076  0.001341  ...   \n",
       "\n",
       "    wv_d243   wv_d244   wv_d245   wv_d246   wv_d247   wv_d248   wv_d249  \\\n",
       "0  0.001587  0.000647 -0.001405  0.001298 -0.001555 -0.001051 -0.001307   \n",
       "1 -0.001401 -0.001841  0.001158 -0.001348  0.001518  0.000087 -0.001332   \n",
       "2  0.001091 -0.001509  0.000992 -0.000271  0.001211  0.001454  0.000701   \n",
       "3 -0.000965 -0.001425 -0.000254 -0.001294 -0.000275 -0.001468  0.000681   \n",
       "4 -0.001914  0.001483 -0.001376  0.000637 -0.000329 -0.001772 -0.000597   \n",
       "\n",
       "    wv_d250   tf_idf  self_defined_category  \n",
       "0 -0.002019  0.45687                   自然景觀  \n",
       "1  0.000606  0.23000                   自然景觀  \n",
       "2 -0.001060  0.15229                   自然景觀  \n",
       "3  0.000681  0.15229                   自然景觀  \n",
       "4 -0.001965  0.34459                   人文藝術  \n",
       "\n",
       "[5 rows x 254 columns]"
      ]
     },
     "execution_count": 11,
     "metadata": {},
     "output_type": "execute_result"
    }
   ],
   "source": [
    "data.head()"
   ]
  },
  {
   "cell_type": "code",
   "execution_count": 12,
   "metadata": {},
   "outputs": [],
   "source": [
    "ref_columns = [\"url\", \"is_train\"]\n",
    "X_train = data.loc[data[\"is_train\"], [c for c in data.columns if c != \"self_defined_category\" and c not in ref_columns]]\n",
    "y_train = data.loc[data[\"is_train\"], \"self_defined_category\"]\n",
    "X_test = data.loc[~data[\"is_train\"], [c for c in data.columns if c != \"self_defined_category\" and c not in ref_columns]]\n",
    "y_test = data.loc[~data[\"is_train\"], \"self_defined_category\"]"
   ]
  },
  {
   "cell_type": "markdown",
   "metadata": {},
   "source": [
    "## XGBoost"
   ]
  },
  {
   "cell_type": "code",
   "execution_count": 13,
   "metadata": {},
   "outputs": [],
   "source": [
    "# https://medium.com/jameslearningnote/資料分析-機器學習-第5-2講-kaggle機器學習競賽神器xgboost介紹-1c8f55cffcc\n",
    "# https://xgboost.readthedocs.io/en/latest/parameter.html\n",
    "xgbc = XGBClassifier(objective=\"multi:softprob\", num_class=4)"
   ]
  },
  {
   "cell_type": "code",
   "execution_count": 14,
   "metadata": {},
   "outputs": [
    {
     "data": {
      "text/plain": [
       "XGBClassifier(base_score=0.5, booster='gbtree', colsample_bylevel=1,\n",
       "              colsample_bynode=1, colsample_bytree=1, gamma=0,\n",
       "              learning_rate=0.1, max_delta_step=0, max_depth=3,\n",
       "              min_child_weight=1, missing=None, n_estimators=100, n_jobs=1,\n",
       "              nthread=None, num_class=4, objective='multi:softprob',\n",
       "              random_state=0, reg_alpha=0, reg_lambda=1, scale_pos_weight=1,\n",
       "              seed=None, silent=None, subsample=1, verbosity=1)"
      ]
     },
     "execution_count": 14,
     "metadata": {},
     "output_type": "execute_result"
    }
   ],
   "source": [
    "weights = class_weight.compute_class_weight(\"balanced\", np.unique(y_train), y_train)\n",
    "weights_dict = {c: w for c, w in zip(np.unique(y_train), weights)}\n",
    "w_array = [weights_dict[c] for c in y_train]\n",
    "# Evolved from https://datascience.stackexchange.com/a/60134/58799\n",
    "xgbc.fit(X_train, y_train, sample_weight=w_array)"
   ]
  },
  {
   "cell_type": "code",
   "execution_count": 15,
   "metadata": {},
   "outputs": [
    {
     "name": "stdout",
     "output_type": "stream",
     "text": [
      "xgbc.score for training set: 0.8457538994800693\n",
      "xgbc.score for testing set: 0.5\n"
     ]
    }
   ],
   "source": [
    "print(f\"xgbc.score for training set: {xgbc.score(X_train, y_train)}\")\n",
    "print(f\"xgbc.score for testing set: {xgbc.score(X_test, y_test)}\")"
   ]
  },
  {
   "cell_type": "code",
   "execution_count": 16,
   "metadata": {},
   "outputs": [],
   "source": [
    "def predict_given_url_xgboost(url):\n",
    "    sub_data_index = data.loc[data[\"url\"] == url].index\n",
    "    probs = xgbc.predict_proba(X_test.loc[sub_data_index])\n",
    "    # https://docs.scipy.org/doc/numpy/reference/generated/numpy.unique.html\n",
    "    # np.unique does sorting, while pd.Series.unique doesn't\n",
    "    labels = np.unique(y_test)\n",
    "    final_list = [{label: p for label, p in zip(labels, prob)} for prob in probs]\n",
    "    # https://pandas.pydata.org/pandas-docs/stable/reference/api/pandas.DataFrame.mean.html\n",
    "    # https://pandas.pydata.org/pandas-docs/stable/reference/api/pandas.Series.idxmax.html\n",
    "    return pd.DataFrame(final_list).mean().idxmax()"
   ]
  },
  {
   "cell_type": "code",
   "execution_count": 17,
   "metadata": {},
   "outputs": [],
   "source": [
    "data_test = data.loc[~data[\"is_train\"], [\"url\", \"self_defined_category\"]].drop_duplicates()\n",
    "df_test_predicted = pd.DataFrame(\n",
    "    [\n",
    "        {\"url\": url, \"predicted_category\": predict_given_url_xgboost(url)}\n",
    "        for url in data_test[\"url\"]\n",
    "    ]\n",
    ")\n",
    "df_test_predicted = df_test_predicted.merge(data_test, on=\"url\")"
   ]
  },
  {
   "cell_type": "code",
   "execution_count": 18,
   "metadata": {},
   "outputs": [
    {
     "name": "stdout",
     "output_type": "stream",
     "text": [
      "The subset accuracy of XGBoost to classify articles is 0.62\n"
     ]
    }
   ],
   "source": [
    "print(\"The subset accuracy of XGBoost to classify articles is {}\".format((df_test_predicted[\"predicted_category\"] == df_test_predicted[\"self_defined_category\"]).mean()))"
   ]
  },
  {
   "cell_type": "markdown",
   "metadata": {},
   "source": [
    "## Random forest"
   ]
  },
  {
   "cell_type": "code",
   "execution_count": 19,
   "metadata": {},
   "outputs": [],
   "source": [
    "rfc = RandomForestClassifier(n_estimators=100, class_weight=\"balanced\")"
   ]
  },
  {
   "cell_type": "code",
   "execution_count": 20,
   "metadata": {},
   "outputs": [
    {
     "data": {
      "text/plain": [
       "RandomForestClassifier(bootstrap=True, class_weight='balanced',\n",
       "                       criterion='gini', max_depth=None, max_features='auto',\n",
       "                       max_leaf_nodes=None, min_impurity_decrease=0.0,\n",
       "                       min_impurity_split=None, min_samples_leaf=1,\n",
       "                       min_samples_split=2, min_weight_fraction_leaf=0.0,\n",
       "                       n_estimators=100, n_jobs=None, oob_score=False,\n",
       "                       random_state=None, verbose=0, warm_start=False)"
      ]
     },
     "execution_count": 20,
     "metadata": {},
     "output_type": "execute_result"
    }
   ],
   "source": [
    "rfc.fit(X_train, y_train)"
   ]
  },
  {
   "cell_type": "code",
   "execution_count": 21,
   "metadata": {},
   "outputs": [
    {
     "name": "stdout",
     "output_type": "stream",
     "text": [
      "rfc.score for training set: 1.0\n",
      "rfc.score for testing set: 0.5052631578947369\n"
     ]
    }
   ],
   "source": [
    "print(f\"rfc.score for training set: {rfc.score(X_train, y_train)}\")\n",
    "print(f\"rfc.score for testing set: {rfc.score(X_test, y_test)}\")"
   ]
  },
  {
   "cell_type": "code",
   "execution_count": 22,
   "metadata": {},
   "outputs": [],
   "source": [
    "def predict_given_url_rf(url):\n",
    "    sub_data_index = data.loc[data[\"url\"] == url].index\n",
    "    probs = rfc.predict_proba(X_test.loc[sub_data_index])\n",
    "    labels = np.unique(y_test)\n",
    "    final_list = [{label: p for label, p in zip(labels, prob)} for prob in probs]\n",
    "    # https://pandas.pydata.org/pandas-docs/stable/reference/api/pandas.DataFrame.mean.html\n",
    "    # https://pandas.pydata.org/pandas-docs/stable/reference/api/pandas.Series.idxmax.html\n",
    "    return pd.DataFrame(final_list).mean().idxmax()"
   ]
  },
  {
   "cell_type": "code",
   "execution_count": 23,
   "metadata": {},
   "outputs": [],
   "source": [
    "data_test = data.loc[~data[\"is_train\"], [\"url\", \"self_defined_category\"]].drop_duplicates()\n",
    "df_test_predicted = pd.DataFrame(\n",
    "    [\n",
    "        {\"url\": url, \"predicted_category\": predict_given_url_rf(url)}\n",
    "        for url in data_test[\"url\"]\n",
    "    ]\n",
    ")\n",
    "df_test_predicted = df_test_predicted.merge(data_test, on=\"url\")"
   ]
  },
  {
   "cell_type": "code",
   "execution_count": 24,
   "metadata": {},
   "outputs": [
    {
     "name": "stdout",
     "output_type": "stream",
     "text": [
      "The subset accuracy of RF to classify articles is 0.56\n"
     ]
    }
   ],
   "source": [
    "print(\"The subset accuracy of RF to classify articles is {}\".format((df_test_predicted[\"predicted_category\"] == df_test_predicted[\"self_defined_category\"]).mean()))"
   ]
  },
  {
   "cell_type": "markdown",
   "metadata": {},
   "source": [
    "## Stacking XGBoost and RF"
   ]
  },
  {
   "cell_type": "code",
   "execution_count": 25,
   "metadata": {},
   "outputs": [],
   "source": [
    "def predict_given_url_xgboost_stack_rf(url):\n",
    "    sub_data_index = data.loc[data[\"url\"] == url].index\n",
    "    probs_xgbc = xgbc.predict_proba(X_test.loc[sub_data_index])\n",
    "    probs_rfc = rfc.predict_proba(X_test.loc[sub_data_index])\n",
    "    labels = np.unique(y_test)\n",
    "    final_list = [{label: p for label, p in zip(labels, prob)} for prob in probs_xgbc]\n",
    "    final_list.extend([{label: p for label, p in zip(labels, prob)} for prob in probs_rfc])\n",
    "    # https://pandas.pydata.org/pandas-docs/stable/reference/api/pandas.DataFrame.mean.html\n",
    "    # https://pandas.pydata.org/pandas-docs/stable/reference/api/pandas.Series.idxmax.html\n",
    "    return pd.DataFrame(final_list).mean().idxmax()"
   ]
  },
  {
   "cell_type": "code",
   "execution_count": 26,
   "metadata": {},
   "outputs": [],
   "source": [
    "data_test = data.loc[~data[\"is_train\"], [\"url\", \"self_defined_category\"]].drop_duplicates()\n",
    "df_test_predicted = pd.DataFrame(\n",
    "    [\n",
    "        {\"url\": url, \"predicted_category\": predict_given_url_xgboost_stack_rf(url)}\n",
    "        for url in data_test[\"url\"]\n",
    "    ]\n",
    ")\n",
    "df_test_predicted = df_test_predicted.merge(data_test, on=\"url\")"
   ]
  },
  {
   "cell_type": "code",
   "execution_count": 27,
   "metadata": {},
   "outputs": [
    {
     "name": "stdout",
     "output_type": "stream",
     "text": [
      "The subset accuracy of stacked models to classify articles is 0.6\n"
     ]
    }
   ],
   "source": [
    "print(\"The subset accuracy of stacked models to classify articles is {}\".format((df_test_predicted[\"predicted_category\"] == df_test_predicted[\"self_defined_category\"]).mean()))"
   ]
  },
  {
   "cell_type": "code",
   "execution_count": null,
   "metadata": {},
   "outputs": [],
   "source": []
  }
 ],
 "metadata": {
  "kernelspec": {
   "display_name": "Python 3",
   "language": "python",
   "name": "python3"
  },
  "language_info": {
   "codemirror_mode": {
    "name": "ipython",
    "version": 3
   },
   "file_extension": ".py",
   "mimetype": "text/x-python",
   "name": "python",
   "nbconvert_exporter": "python",
   "pygments_lexer": "ipython3",
   "version": "3.7.1"
  }
 },
 "nbformat": 4,
 "nbformat_minor": 4
}
