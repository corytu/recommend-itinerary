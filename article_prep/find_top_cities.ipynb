{
 "cells": [
  {
   "cell_type": "code",
   "execution_count": 1,
   "metadata": {},
   "outputs": [],
   "source": [
    "import json\n",
    "import re\n",
    "\n",
    "import pandas as pd"
   ]
  },
  {
   "cell_type": "code",
   "execution_count": 2,
   "metadata": {},
   "outputs": [],
   "source": [
    "with open(\"title_locations.json\") as f:\n",
    "    title_locations = json.load(f)"
   ]
  },
  {
   "cell_type": "code",
   "execution_count": 3,
   "metadata": {},
   "outputs": [],
   "source": [
    "all_locations = []\n",
    "for v in title_locations.values():\n",
    "    all_locations.extend(v[\"locations\"])"
   ]
  },
  {
   "cell_type": "code",
   "execution_count": 11,
   "metadata": {},
   "outputs": [
    {
     "data": {
      "text/plain": [
       "台中     178\n",
       "宜蘭     165\n",
       "台北     145\n",
       "台南     124\n",
       "桃園     111\n",
       "新竹     107\n",
       "高雄      95\n",
       "台灣      77\n",
       "新北      69\n",
       "苗栗      67\n",
       "嘉義      62\n",
       "南投      59\n",
       "露營區     57\n",
       "花蓮      44\n",
       "世界      40\n",
       "彰化      40\n",
       "屏東      39\n",
       "礁溪      38\n",
       "陽明山     28\n",
       "澎湖      25\n",
       "台東      22\n",
       "新北市     21\n",
       "墾丁      20\n",
       "冬山      19\n",
       "基隆      19\n",
       "日月潭     18\n",
       "中壢      17\n",
       "雲林      17\n",
       "日本      16\n",
       "金門      16\n",
       "dtype: int64"
      ]
     },
     "execution_count": 11,
     "metadata": {},
     "output_type": "execute_result"
    }
   ],
   "source": [
    "pd.Series(all_locations).value_counts().head(30)"
   ]
  },
  {
   "cell_type": "code",
   "execution_count": null,
   "metadata": {},
   "outputs": [],
   "source": []
  }
 ],
 "metadata": {
  "kernelspec": {
   "display_name": "Python 3",
   "language": "python",
   "name": "python3"
  },
  "language_info": {
   "codemirror_mode": {
    "name": "ipython",
    "version": 3
   },
   "file_extension": ".py",
   "mimetype": "text/x-python",
   "name": "python",
   "nbconvert_exporter": "python",
   "pygments_lexer": "ipython3",
   "version": "3.7.1"
  }
 },
 "nbformat": 4,
 "nbformat_minor": 2
}
